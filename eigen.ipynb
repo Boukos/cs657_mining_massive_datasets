{
 "cells": [
  {
   "cell_type": "code",
   "execution_count": 2,
   "metadata": {
    "collapsed": true
   },
   "outputs": [],
   "source": [
    "import scipy"
   ]
  },
  {
   "cell_type": "code",
   "execution_count": 3,
   "metadata": {},
   "outputs": [],
   "source": [
    "import numpy as np\n",
    "from scipy import linalg as la"
   ]
  },
  {
   "cell_type": "code",
   "execution_count": 17,
   "metadata": {},
   "outputs": [],
   "source": [
    "l = [(2,-1,-1,0,0,0),(-1,2,0,-1,0,0),(-1,0,1,0,0,0),(0,-1,0,3,-1,-1),(0,0,0,-1,2,-1),(0,0,0,-1,-1,2)]"
   ]
  },
  {
   "cell_type": "code",
   "execution_count": 18,
   "metadata": {},
   "outputs": [],
   "source": [
    "np_l = np.array(l, dtype=np.int16)"
   ]
  },
  {
   "cell_type": "code",
   "execution_count": 21,
   "metadata": {},
   "outputs": [],
   "source": [
    "eig_values, eig_vecs = la.eig(np_l)"
   ]
  },
  {
   "cell_type": "code",
   "execution_count": 22,
   "metadata": {},
   "outputs": [
    {
     "data": {
      "text/plain": [
       "array([  4.21431974e+00+0.j,   3.00000000e+00+0.j,   1.46081113e+00+0.j,\n         2.36952014e-16+0.j,   3.24869129e-01+0.j,   3.00000000e+00+0.j])"
      ]
     },
     "execution_count": 22,
     "metadata": {},
     "output_type": "execute_result"
    }
   ],
   "source": [
    "eig_values"
   ]
  },
  {
   "cell_type": "code",
   "execution_count": 23,
   "metadata": {},
   "outputs": [
    {
     "data": {
      "text/plain": [
       "array([[-0.24217367,  0.73029674, -0.25597479,  0.40824829,  0.41931948,\n        -0.00380082],\n       [ 0.46090781, -0.36514837, -0.69350618,  0.40824829,  0.08132138,\n         0.00190041],\n       [ 0.07534212, -0.36514837,  0.55548742,  0.40824829,  0.62109362,\n         0.00190041],\n       [-0.7784236 , -0.36514837, -0.11795603,  0.40824829, -0.28309552,\n         0.00190041],\n       [ 0.24217367,  0.18257419,  0.25597479,  0.40824829, -0.41931948,\n        -0.70804741],\n       [ 0.24217367,  0.18257419,  0.25597479,  0.40824829, -0.41931948,\n         0.706147  ]])"
      ]
     },
     "execution_count": 23,
     "metadata": {},
     "output_type": "execute_result"
    }
   ],
   "source": [
    "eig_vecs"
   ]
  },
  {
   "cell_type": "code",
   "execution_count": 28,
   "metadata": {},
   "outputs": [],
   "source": [
    "sorted_vales = sorted(zip(eig_values, eig_vecs.T), key=lambda x: x[0], reverse=True)"
   ]
  },
  {
   "cell_type": "code",
   "execution_count": 26,
   "metadata": {},
   "outputs": [],
   "source": [
    "sorted_vales"
   ]
  },
  {
   "cell_type": "code",
   "execution_count": 29,
   "metadata": {},
   "outputs": [
    {
     "name": "stdout",
     "output_type": "stream",
     "text": [
      "[((4.2143197433775361+0j), array([-0.24217367,  0.46090781,  0.07534212, -0.7784236 ,  0.24217367,\n        0.24217367])), ((3.0000000000000044+0j), array([ 0.73029674, -0.36514837, -0.36514837, -0.36514837,  0.18257419,\n        0.18257419])), ((3+0j), array([-0.00380082,  0.00190041,  0.00190041,  0.00190041, -0.70804741,\n        0.706147  ])), ((1.4608111271891127+0j), array([-0.25597479, -0.69350618,  0.55548742, -0.11795603,  0.25597479,\n        0.25597479])), ((0.32486912943335405+0j), array([ 0.41931948,  0.08132138,  0.62109362, -0.28309552, -0.41931948,\n       -0.41931948])), ((2.3695201385683136e-16+0j), array([ 0.40824829,  0.40824829,  0.40824829,  0.40824829,  0.40824829,\n        0.40824829]))]\n"
     ]
    }
   ],
   "source": [
    "print(sorted_vales)"
   ]
  },
  {
   "cell_type": "code",
   "execution_count": null,
   "metadata": {},
   "outputs": [],
   "source": [
    ""
   ]
  }
 ],
 "metadata": {
  "kernelspec": {
   "display_name": "Python 2",
   "language": "python",
   "name": "python2"
  },
  "language_info": {
   "codemirror_mode": {
    "name": "ipython",
    "version": 2.0
   },
   "file_extension": ".py",
   "mimetype": "text/x-python",
   "name": "python",
   "nbconvert_exporter": "python",
   "pygments_lexer": "ipython2",
   "version": "2.7.6"
  }
 },
 "nbformat": 4,
 "nbformat_minor": 0
}