{
 "cells": [
  {
   "cell_type": "code",
   "execution_count": 7,
   "metadata": {},
   "outputs": [],
   "source": [
    "import os\n",
    "cur_dir = os.listdir(os.curdir)\n",
    "if \"cluster_viz.ipynb\" not in cur_dir:\n",
    "    os.chdir(\"cs657_mining_massive_datasets/craigslist_clustering/src\")\n",
    "    print(os.listdir(os.curdir))"
   ]
  },
  {
   "cell_type": "code",
   "execution_count": 8,
   "metadata": {
    "collapsed": true
   },
   "outputs": [],
   "source": [
    "import numpy as np\n",
    "import pandas as pd"
   ]
  },
  {
   "cell_type": "code",
   "execution_count": 69,
   "metadata": {
    "collapsed": true
   },
   "outputs": [],
   "source": [
    "def get_cluster_results(fn=\"km_cluster_results.npz\"):\n",
    "    arr = np.load(fn).items()[0][1]\n",
    "    cluster_list = [[x[0][0], x[0][1], x[1]] for x in arr]\n",
    "    cols = [\"x\" + str(i+1) for i in range(0, len(cluster_list[0]) - 1)] + [\"y\"]\n",
    "    return pd.DataFrame(cluster_list, columns=cols)"
   ]
  },
  {
   "cell_type": "code",
   "execution_count": 14,
   "metadata": {
    "collapsed": true
   },
   "outputs": [],
   "source": [
    "def get_model(fn=\"test.npz\"):\n",
    "    model = np.load(fn)\n",
    "    print(model)\n",
    "    return model"
   ]
  },
  {
   "cell_type": "code",
   "execution_count": null,
   "metadata": {
    "collapsed": true
   },
   "outputs": [],
   "source": [
    "def viz_in_3d(df):\n",
    "    # Visualize cluster shapes in 3d.\n",
    "\n",
    "cluster1=df.loc[df['y'] == 0]\n",
    "cluster2=df.loc[df['y'] == 1]\n",
    "cluster3=df.loc[df['y'] == 2]\n",
    "\n",
    "scatter1 = dict(\n",
    "    mode = \"markers\",\n",
    "    name = \"Cluster 1\",\n",
    "    type = \"scatter3d\",    \n",
    "    x = cluster1.as_matrix()[:,0], y = cluster1.as_matrix()[:,1], z = cluster1.as_matrix()[:,2],\n",
    "    marker = dict( size=2, color='green')\n",
    ")\n",
    "scatter2 = dict(\n",
    "    mode = \"markers\",\n",
    "    name = \"Cluster 2\",\n",
    "    type = \"scatter3d\",    \n",
    "    x = cluster2.as_matrix()[:,0], y = cluster2.as_matrix()[:,1], z = cluster2.as_matrix()[:,2],\n",
    "    marker = dict( size=2, color='blue')\n",
    ")\n",
    "scatter3 = dict(\n",
    "    mode = \"markers\",\n",
    "    name = \"Cluster 3\",\n",
    "    type = \"scatter3d\",    \n",
    "    x = cluster3.as_matrix()[:,0], y = cluster3.as_matrix()[:,1], z = cluster3.as_matrix()[:,2],\n",
    "    marker = dict( size=2, color='red')\n",
    ")\n",
    "cluster1 = dict(\n",
    "    alphahull = 5,\n",
    "    name = \"Cluster 1\",\n",
    "    opacity = .1,\n",
    "    type = \"mesh3d\",    \n",
    "    x = cluster1.as_matrix()[:,0], y = cluster1.as_matrix()[:,1], z = cluster1.as_matrix()[:,2],\n",
    "    color='green', showscale = True\n",
    ")\n",
    "cluster2 = dict(\n",
    "    alphahull = 5,\n",
    "    name = \"Cluster 2\",\n",
    "    opacity = .1,\n",
    "    type = \"mesh3d\",    \n",
    "    x = cluster2.as_matrix()[:,0], y = cluster2.as_matrix()[:,1], z = cluster2.as_matrix()[:,2],\n",
    "    color='blue', showscale = True\n",
    ")\n",
    "cluster3 = dict(\n",
    "    alphahull = 5,\n",
    "    name = \"Cluster 3\",\n",
    "    opacity = .1,\n",
    "    type = \"mesh3d\",    \n",
    "    x = cluster3.as_matrix()[:,0], y = cluster3.as_matrix()[:,1], z = cluster3.as_matrix()[:,2],\n",
    "    color='red', showscale = True\n",
    ")\n",
    "layout = dict(\n",
    "    title = 'Interactive Cluster Shapes in 3D',\n",
    "    scene = dict(\n",
    "        xaxis = dict( zeroline=True ),\n",
    "        yaxis = dict( zeroline=True ),\n",
    "        zaxis = dict( zeroline=True ),\n",
    "    )\n",
    ")\n",
    "fig = dict( data=[scatter1, scatter2, scatter3, cluster1, cluster2, cluster3], layout=layout )\n",
    "# Use py.iplot() for IPython notebook\n",
    "plotly.offline.iplot(fig, filename='mesh3d_sample')"
   ]
  },
  {
   "cell_type": "code",
   "execution_count": null,
   "metadata": {
    "collapsed": true
   },
   "outputs": [],
   "source": [
    "def create_heatmap(df):\n",
    "    # split df into cluster groups\n",
    "    grouped = df.groupby(['y'], sort=True)\n",
    "\n",
    "    # compute sums for every column in every group\n",
    "    sums = grouped.sum()\n",
    "    n_labels = len(df[\"labels\"].unique())\n",
    "    x_names = [\"doc\" + str(i+1) for i in range(0, df.shape[0] - 1)]\n",
    "    y_labels = [\"topics\" + str(i+1) for i in range(0, n_labels]]\n",
    "    data = [go.Heatmap(z=sums.values.tolist(), y=y_labels, x= x_names, colorscale='Viridis')]\n",
    "    plotly.offline.iplot(data, filename='pandas-heatmap')"
   ]
  },
  {
   "cell_type": "code",
   "execution_count": 67,
   "metadata": {},
   "outputs": [
    {
     "data": {
      "text/html": [
       "<div>\n",
       "<style>\n",
       "    .dataframe thead tr:only-child th {\n",
       "        text-align: right;\n",
       "    }\n",
       "\n",
       "    .dataframe thead th {\n",
       "        text-align: left;\n",
       "    }\n",
       "\n",
       "    .dataframe tbody tr th {\n",
       "        vertical-align: top;\n",
       "    }\n",
       "</style>\n",
       "<table border=\"1\" class=\"dataframe\">\n",
       "  <thead>\n",
       "    <tr style=\"text-align: right;\">\n",
       "      <th></th>\n",
       "      <th>x1</th>\n",
       "      <th>x2</th>\n",
       "      <th>label</th>\n",
       "    </tr>\n",
       "  </thead>\n",
       "  <tbody>\n",
       "    <tr>\n",
       "      <th>0</th>\n",
       "      <td>-0.134278</td>\n",
       "      <td>0.047625</td>\n",
       "      <td>1</td>\n",
       "    </tr>\n",
       "    <tr>\n",
       "      <th>1</th>\n",
       "      <td>-0.249774</td>\n",
       "      <td>0.015098</td>\n",
       "      <td>0</td>\n",
       "    </tr>\n",
       "    <tr>\n",
       "      <th>2</th>\n",
       "      <td>-0.040427</td>\n",
       "      <td>0.028730</td>\n",
       "      <td>1</td>\n",
       "    </tr>\n",
       "    <tr>\n",
       "      <th>3</th>\n",
       "      <td>-0.145335</td>\n",
       "      <td>0.012527</td>\n",
       "      <td>0</td>\n",
       "    </tr>\n",
       "    <tr>\n",
       "      <th>4</th>\n",
       "      <td>-0.220190</td>\n",
       "      <td>-0.048697</td>\n",
       "      <td>0</td>\n",
       "    </tr>\n",
       "  </tbody>\n",
       "</table>\n",
       "</div>"
      ],
      "text/plain": [
       "<div>\n",
       "<style>\n",
       "    .dataframe thead tr:only-child th {\n",
       "        text-align: right;\n",
       "    }\n",
       "\n",
       "    .dataframe thead th {\n",
       "        text-align: left;\n",
       "    }\n",
       "\n",
       "    .dataframe tbody tr th {\n",
       "        vertical-align: top;\n",
       "    }\n",
       "</style>\n",
       "<table border=\"1\" class=\"dataframe\">\n",
       "  <thead>\n",
       "    <tr style=\"text-align: right;\">\n",
       "      <th></th>\n",
       "      <th>x1</th>\n",
       "      <th>x2</th>\n",
       "      <th>label</th>\n",
       "    </tr>\n",
       "  </thead>\n",
       "  <tbody>\n",
       "    <tr>\n",
       "      <th>0</th>\n",
       "      <td>-0.134278</td>\n",
       "      <td>0.047625</td>\n",
       "      <td>1</td>\n",
       "    </tr>\n",
       "    <tr>\n",
       "      <th>1</th>\n",
       "      <td>-0.249774</td>\n",
       "      <td>0.015098</td>\n",
       "      <td>0</td>\n",
       "    </tr>\n",
       "    <tr>\n",
       "      <th>2</th>\n",
       "      <td>-0.040427</td>\n",
       "      <td>0.028730</td>\n",
       "      <td>1</td>\n",
       "    </tr>\n",
       "    <tr>\n",
       "      <th>3</th>\n",
       "      <td>-0.145335</td>\n",
       "      <td>0.012527</td>\n",
       "      <td>0</td>\n",
       "    </tr>\n",
       "    <tr>\n",
       "      <th>4</th>\n",
       "      <td>-0.220190</td>\n",
       "      <td>-0.048697</td>\n",
       "      <td>0</td>\n",
       "    </tr>\n",
       "  </tbody>\n",
       "</table>\n",
       "</div>"
      ]
     },
     "execution_count": 67,
     "metadata": {},
     "output_type": "execute_result"
    }
   ],
   "source": [
    "cluster_results = get_cluster_results()\n",
    "# cluster_results[:5]\n",
    "cluster_results.head()"
   ]
  },
  {
   "cell_type": "code",
   "execution_count": 62,
   "metadata": {
    "collapsed": true
   },
   "outputs": [],
   "source": [
    "import pylab as pl\n",
    "def twoD_viz(cluster_results):\n",
    "    for i in range(0, len(cluster_results)):\n",
    "        if cluster_results[i][2] == 0:\n",
    "            c1 = pl.scatter(cluster_results[i][0], cluster_results[i][0], c='r', marker='+')\n",
    "        elif cluster_results[i][2] == 1:\n",
    "            c2 = pl.scatter(cluster_results[i][0], cluster_results[i][0], c='g', marker='o')\n",
    "    pl.legend([c1, c2], ['cluster1', 'cluster2'])\n",
    "    pl.title('Iris dataset with 2 clusters and known outcomes')\n",
    "    pl.show()"
   ]
  },
  {
   "cell_type": "code",
   "execution_count": 58,
   "metadata": {
    "collapsed": true
   },
   "outputs": [],
   "source": [
    "cluster_params = (\n",
    "    {\"k\":[5]},\n",
    "    {\"n_iters\": [100],},\n",
    "\n",
    "    \"bimeans\": {\n",
    "                   \"step_zize\":[0.5, 0.4],\n",
    "                   \"batch_frac\": [0.35],\n",
    "                   \"reg\": [0.02]},\n",
    "\n",
    "               \"lda\":{\n",
    "    \"doc_con\":[0/5],\n",
    "    \"topic_con\": [0.3]\n",
    "}\n",
    "\n",
    ")"
   ]
  },
  {
   "cell_type": "code",
   "execution_count": null,
   "metadata": {
    "collapsed": true
   },
   "outputs": [],
   "source": []
  }
 ],
 "metadata": {
  "kernelspec": {
   "display_name": "Python 2",
   "language": "python",
   "name": "python2"
  },
  "language_info": {
   "codemirror_mode": {
    "name": "ipython",
    "version": 2
   },
   "file_extension": ".py",
   "mimetype": "text/x-python",
   "name": "python",
   "nbconvert_exporter": "python",
   "pygments_lexer": "ipython2",
   "version": "2.7.14"
  }
 },
 "nbformat": 4,
 "nbformat_minor": 1
}
