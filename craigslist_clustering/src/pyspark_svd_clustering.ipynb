{
 "cells": [
  {
   "cell_type": "code",
   "execution_count": null,
   "metadata": {},
   "outputs": [],
   "source": [
    "# import os\n",
    "# os.listdir(os.curdir)\n",
    "#import mllib\n",
    "from pyspark.mllib.evaluation import RegressionMetrics\n",
    "from pyspark.mllib.feature import HashingTF, IDF\n",
    "from pyspark.mllib.feature import Word2Vec\n",
    "from pyspark.mllib.feature import StandardScalerModel\n",
    "from pyspark.mllib.linalg import Vectors\n",
    "from pyspark.mllib.linalg.distributed import RowMatrix, BlockMatrix\n",
    "from pyspark.mllib.linalg import Matrices\n",
    "from pyspark.mllib.clustering import KMeans, KMeansModel\n",
    "from pyspark.mllib.clustering import LDA, LDAModel\n",
    "from pyspark.mllib.clustering import BisectingKMeans, BisectingKMeansModel\n",
    "\n",
    "# python imports\n",
    "from math import sqrt\n",
    "import numpy as np\n",
    "from numpy import array\n",
    "import os, csv, sys, time\n",
    "from random import randint\n",
    "from itertools import izip, izip_longest"
   ]
  },
  {
   "cell_type": "code",
   "execution_count": 5,
   "metadata": {},
   "outputs": [
    {
     "name": "stdout",
     "output_type": "stream",
     "text": [
      "C:\\Users\\shane\\programming\\cs657_mining_massive_datasets\\craigslist_clustering\\data\\cl_tiny.csv\n"
     ]
    },
    {
     "data": {
      "text/plain": [
       "True"
      ]
     },
     "execution_count": 5,
     "metadata": {},
     "output_type": "execute_result"
    }
   ],
   "source": [
    "# def get_input(fn):\n",
    "\n",
    "fn = \"cl_tiny.csv\"\n",
    "cur_dir = os.path.abspath(os.curdir)\n",
    "input_file_path = os.path.normpath(os.path.join(cur_dir, \"..\", \"data\", fn))\n",
    "print(input_file_path)\n",
    "\n",
    "os.path.isfile(input_file_path)"
   ]
  },
  {
   "cell_type": "code",
   "execution_count": 6,
   "metadata": {
    "collapsed": true
   },
   "outputs": [],
   "source": [
    "# [(postTitle, postingURL, postLocation, time, lat, long, address, dateRetrieved, post_date, ad), ...]\n",
    "# tiny input has 30 reviews\n",
    "raw_ads = sc.textFile(input_file_path)\n",
    "# set = input.take(3)"
   ]
  },
  {
   "cell_type": "code",
   "execution_count": 7,
   "metadata": {
    "collapsed": true
   },
   "outputs": [],
   "source": [
    "# [ad0, ad1, ..]\n",
    "ads_rdd = raw_ads.map(lambda x: str(x.decode('utf-8', 'ignore')))\n",
    "# processed_rdd = input.map(lambda x: str(x.decode('utf-8', 'ignore'))).map(lambda x: x.split(\",\"))\n",
    "# processed_rdd.take(2)"
   ]
  },
  {
   "cell_type": "code",
   "execution_count": 1,
   "metadata": {},
   "outputs": [
    {
     "ename": "NameError",
     "evalue": "name 'tfidf_rdd' is not defined",
     "traceback": [
      "\u001b[1;31m---------------------------------------------------------------------------\u001b[0m",
      "\u001b[1;31mNameError\u001b[0m                                 Traceback (most recent call last)",
      "\u001b[1;32m<ipython-input-1-9f6278e40f00>\u001b[0m in \u001b[0;36m<module>\u001b[1;34m()\u001b[0m\n\u001b[0;32m      2\u001b[0m \u001b[1;31m# tfidf_rdd.flatMap(lambda x: x).take(3)\u001b[0m\u001b[1;33m\u001b[0m\u001b[1;33m\u001b[0m\u001b[0m\n\u001b[0;32m      3\u001b[0m \u001b[1;31m# flatMap by keeping the column position\u001b[0m\u001b[1;33m\u001b[0m\u001b[1;33m\u001b[0m\u001b[0m\n\u001b[1;32m----> 4\u001b[1;33m \u001b[0mflat_rdd\u001b[0m \u001b[1;33m=\u001b[0m \u001b[0mtfidf_rdd\u001b[0m\u001b[1;33m.\u001b[0m\u001b[0mflatMap\u001b[0m\u001b[1;33m(\u001b[0m\u001b[1;32mlambda\u001b[0m \u001b[0mrow\u001b[0m\u001b[1;33m:\u001b[0m \u001b[0mrow\u001b[0m\u001b[1;33m.\u001b[0m\u001b[0mmap\u001b[0m\u001b[1;33m(\u001b[0m\u001b[1;32mlambda\u001b[0m \u001b[0mcol\u001b[0m\u001b[1;33m:\u001b[0m \u001b[1;33m(\u001b[0m\u001b[0mcol\u001b[0m\u001b[1;33m,\u001b[0m \u001b[0mrow\u001b[0m\u001b[1;33m.\u001b[0m\u001b[0mindexOf\u001b[0m\u001b[1;33m(\u001b[0m\u001b[0mcol\u001b[0m\u001b[1;33m)\u001b[0m\u001b[1;33m)\u001b[0m\u001b[1;33m)\u001b[0m\u001b[1;33m)\u001b[0m\u001b[1;33m\u001b[0m\u001b[0m\n\u001b[0m\u001b[0;32m      5\u001b[0m \u001b[0mflat_rdd\u001b[0m\u001b[1;33m.\u001b[0m\u001b[0mtake\u001b[0m\u001b[1;33m(\u001b[0m\u001b[1;36m3\u001b[0m\u001b[1;33m)\u001b[0m\u001b[1;33m\u001b[0m\u001b[0m\n\u001b[0;32m      6\u001b[0m \u001b[1;31m# .map(v => (v._2, v._1)) // key by column position\u001b[0m\u001b[1;33m\u001b[0m\u001b[1;33m\u001b[0m\u001b[0m\n",
      "\u001b[1;31mNameError\u001b[0m: name 'tfidf_rdd' is not defined"
     ],
     "output_type": "error"
    }
   ],
   "source": [
    "# def transpose_rdd()\n",
    "# tfidf_rdd.flatMap(lambda x: x).take(3)\n",
    "# flatMap by keeping the column position\n",
    "flat_rdd = tfidf_rdd.flatMap(lambda row: row.map(lambda col: (col, row.indexOf(col))))\n",
    "flat_rdd.take(3)\n",
    "# .map(v => (v._2, v._1)) // key by column position\n",
    "# .groupByKey.sortByKey   // regroup on column position, thus all elements from the first column will be in the first row\n",
    "# .map(_._2)              // discard the key, keep only value\n",
    "# df = rdd.toDF()\n",
    "# # Grab data from first columns, since it will be transposed to new column headers\n",
    "# new_header = [i[0] for i in dt.select(\"_1\").rdd.map(tuple).collect()]\n",
    "\n",
    "# # Remove first column from dataframe\n",
    "# dt2 = dt.select([c for c in dt.columns if c not in ['_1']])\n",
    "\n",
    "# # Convert DataFrame to RDD\n",
    "# rdd = dt2.rdd.map(tuple)\n",
    "\n",
    "# # Transpose Data\n",
    "# rddT1 = rdd.zipWithIndex().flatMap(lambda (x,i): [(i,j,e) for (j,e) in enumerate(x)])\n",
    "# rddT2 = rddT1.map(lambda (i,j,e): (j, (i,e))).groupByKey().sortByKey()\n",
    "# rddT3 = rddT2.map(lambda (i, x): sorted(list(x), cmp=lambda (i1,e1),(i2,e2) : cmp(i1, i2)))\n",
    "# rddT4 = rddT3.map(lambda x: map(lambda (i, y): y , x))\n",
    "\n",
    "# # Convert back to DataFrame (along with header)\n",
    "# df = rddT4.toDF(new_header)\n",
    "\n",
    "# return df"
   ]
  },
  {
   "cell_type": "code",
   "execution_count": 8,
   "metadata": {
    "collapsed": true
   },
   "outputs": [],
   "source": [
    "def get_tfidf(rdd):\n",
    "    # While applying HashingTF only needs a single pass to the data, applying IDF needs two passes:\n",
    "    # First to compute the IDF vector and second to scale the term frequencies by IDF.\n",
    "    hashingTF = HashingTF()\n",
    "    tf = hashingTF.transform(rdd)\n",
    "    tf.cache()\n",
    "    idf = IDF().fit(tf)\n",
    "    tfidf = idf.transform(tf)\n",
    "    # spark.mllib's IDF implementation provides an option for ignoring terms\n",
    "    # which occur in less than a minimum number of documents.\n",
    "    # In such cases, the IDF for these terms is set to 0.\n",
    "    # This feature can be used by passing the minDocFreq value to the IDF constructor.\n",
    "    idfIgnore = IDF(minDocFreq=1).fit(tf)\n",
    "    tfidf_rdd = idfIgnore.transform(tf)\n",
    "    # rdd of SparseVectors [(doc_id_i: {word_id_j: tfidfscore_j, ...}), ... }]\n",
    "    # or m docs x n counts\n",
    "    return tfidf_rdd"
   ]
  },
  {
   "cell_type": "code",
   "execution_count": null,
   "metadata": {
    "collapsed": true
   },
   "outputs": [],
   "source": [
    "def get_svd_U(tfidf_rdd, n_topics=3):\n",
    "    # distributed matrix\n",
    "    matrix_rdd = RowMatrix(tfidf_rdd)\n",
    "\n",
    "    matrix_rdd.numRows\n",
    "    # matrix_rdd.rows.take(3)\n",
    "    svd = matrix_rdd.computeSVD(3, computeU=True)\n",
    "    \n",
    "    # left singular vectors\n",
    "    # type = RowMatrix\n",
    "    svd_u = svd.U\n",
    "    \n",
    "    # array of DenseVectors, m_documents x n_topics\n",
    "    # [[topic_i, ...], ...]\n",
    "    return svd_u.rows.collect()"
   ]
  },
  {
   "cell_type": "code",
   "execution_count": null,
   "metadata": {
    "collapsed": true
   },
   "outputs": [],
   "source": [
    "def save_svd_U(svd_U_rdd, fn=\"svd_u_results.npz\"):\n",
    "    np.savez(fn,np.array(svd_U_rdd))"
   ]
  },
  {
   "cell_type": "code",
   "execution_count": 17,
   "metadata": {
    "collapsed": true
   },
   "outputs": [],
   "source": [
    "tfidf_rdd = get_tfidf(ads_rdd)"
   ]
  },
  {
   "cell_type": "code",
   "execution_count": 81,
   "metadata": {
    "collapsed": true
   },
   "outputs": [],
   "source": [
    "#     sentence = \"aa bb ab\" * 10 + \"a cd \" * 10\n",
    "#     localDoc = [sentence, sentence]\n",
    "#     doc = sc.parallelize(localDoc).map(lambda line: line.split(\" \"))\n",
    "#     model = Word2Vec().setVectorSize(10).setSeed(42).fit(doc)\n",
    "# i think it is expecting a list of document lists [[word1, word2,...], ...]\n",
    "def get_word2vec(rdd):\n",
    "    word2vec = Word2Vec()\n",
    "    model = word2vec.fit(ads_rdd)"
   ]
  },
  {
   "cell_type": "code",
   "execution_count": 134,
   "metadata": {},
   "outputs": [],
   "source": [
    "# k_means\n",
    "# Build the model (cluster the data)\n",
    "# kmeans(rdd, k, maxIterations, runs, InitializationMode, seed, initializationSteps, epsilon, initialModel)\n",
    "def cluster_kmeans_svd(svd_u, k=2, n_iters=10, save_model=False):\n",
    "    rdd = svd.U.rows\n",
    "    clusters = KMeans.train(rdd, k, maxIterations=n_iters, initializationMode=\"random\")\n",
    "    WSSSE = rdd.map(lambda point: error(point)).reduce(lambda x, y: x + y)\n",
    "    print(\"Within Set Sum of Squared Error = \" + str(WSSSE))\n",
    "    if save_model:\n",
    "        save_cluster_model(clusters, fn)\n",
    "    \n",
    "    # do i need to keep the predictions with the keys?\n",
    "    # returns a list of labels\n",
    "    return rdd.map(lambda x: ((x[0],x[1]), clusters.predict(x)))"
   ]
  },
  {
   "cell_type": "code",
   "execution_count": null,
   "metadata": {
    "collapsed": true
   },
   "outputs": [],
   "source": [
    "def save_cluster_predictions(labels, fn=\"test_results.pkl\"):"
   ]
  },
  {
   "cell_type": "code",
   "execution_count": 111,
   "metadata": {
    "collapsed": true
   },
   "outputs": [],
   "source": [
    "# Evaluate clustering by computing Within Set Sum of Squared Errors\n",
    "def error(point):\n",
    "    center = clusters.centers[clusters.predict(point)]\n",
    "    return sqrt(sum([x**2 for x in (point - center)]))"
   ]
  },
  {
   "cell_type": "code",
   "execution_count": 135,
   "metadata": {},
   "outputs": [
    {
     "name": "stdout",
     "output_type": "stream",
     "text": [
      "Within Set Sum of Squared Error = 5.32034738594\n"
     ]
    }
   ],
   "source": [
    "kmeans_mapped = cluster_kmeans_svd(svd.U)"
   ]
  },
  {
   "cell_type": "code",
   "execution_count": 136,
   "metadata": {},
   "outputs": [],
   "source": [
    "np.savez(\"km_cluster_results.npz\", kmeans_mapped.collect())"
   ]
  },
  {
   "cell_type": "code",
   "execution_count": 101,
   "metadata": {},
   "outputs": [],
   "source": [
    "# Save and load model\n",
    "def save_cluster_model(clusters, fn=\"test_model\"):\n",
    "    clusters.save(sc, \"target/org/apache/spark/PythonKMeansExample/KMeansModel\")"
   ]
  },
  {
   "cell_type": "code",
   "execution_count": 105,
   "metadata": {},
   "outputs": [],
   "source": [
    "def load_cluster_model(clusters, fn=\"test_model\"):\n",
    "    sameModel = KMeansModel.load(sc, fn)"
   ]
  },
  {
   "cell_type": "code",
   "execution_count": null,
   "metadata": {},
   "outputs": [],
   "source": [
    "def get_model(n_topics, cluster_model=\"kmeans\", cluster_params):\n",
    "    if cluster_model == \"gaus\":\n",
    "        gaussian_clustering()\n",
    "        pass\n",
    "    elif cluster_model == \"kmeans\":\n",
    "        pass\n",
    "    elif cluster_model == \"bimeans\":\n",
    "        pass\n",
    "    elif cluster_model == \"lda\":\n",
    "        pass\n",
    "    elif cluster_model == \"pic\":\n",
    "        pass\n",
    "    else:\n",
    "        print(\"a viable option wasnt chosen\")\n",
    "    \n",
    "    \n"
   ]
  },
  {
   "cell_type": "code",
   "execution_count": null,
   "metadata": {},
   "outputs": [],
   "source": [
    "def grid_search(params, model):\n",
    "    for i in param:\n",
    "        rdd = get_svd()\n",
    "        model = get_model()\n",
    "        y_hats = make_preds()\n",
    "        results_to_disk(rdd, y)"
   ]
  },
  {
   "cell_type": "code",
   "execution_count": null,
   "metadata": {},
   "outputs": [],
   "source": [
    "def gaussian_clustering(rdd):\n",
    "    # Build the model (cluster the data)\n",
    "    gmm = GaussianMixture.train(parsedData, 2)\n",
    "\n",
    "    # Save and load model\n",
    "    gmm.save(sc, \"target/org/apache/spark/PythonGaussianMixtureExample/GaussianMixtureModel\")\n",
    "    sameModel = GaussianMixtureModel\\\n",
    "        .load(sc, \"target/org/apache/spark/PythonGaussianMixtureExample/GaussianMixtureModel\")\n",
    "\n",
    "    # output parameters of model\n",
    "    for i in range(2):\n",
    "        print(\"weight = \", gmm.weights[i], \"mu = \", gmm.gaussians[i].mu,\n",
    "              \"sigma = \", gmm.gaussians[i].sigma.toArray())\n",
    "\n"
   ]
  },
  {
   "cell_type": "code",
   "execution_count": 2,
   "metadata": {},
   "outputs": [
    {
     "ename": "SyntaxError",
     "evalue": "invalid syntax (<ipython-input-2-9d67d8e19813>, line 9)",
     "traceback": [
      "\u001b[1;36m  File \u001b[1;32m\"<ipython-input-2-9d67d8e19813>\"\u001b[1;36m, line \u001b[1;32m9\u001b[0m\n\u001b[1;33m    model.assignments().foreach(lambda x: print(str(x.id) + \" -> \" + str(x.cluster)))\u001b[0m\n\u001b[1;37m                                              ^\u001b[0m\n\u001b[1;31mSyntaxError\u001b[0m\u001b[1;31m:\u001b[0m invalid syntax\n"
     ],
     "output_type": "error"
    }
   ],
   "source": [
    "def PIC_clustering(rdd, k, n_iters):\n",
    "    # Load and parse the data\n",
    "    data = sc.textFile(\"data/mllib/pic_data.txt\")\n",
    "    similarities = data.map(lambda line: tuple([float(x) for x in line.split(' ')]))\n",
    "\n",
    "    # Cluster the data into two classes using PowerIterationClustering\n",
    "    model = PowerIterationClustering.train(similarities, 2, 10)\n",
    "\n",
    "    model.assignments().foreach(lambda x: print(str(x.id) + \" -> \" + str(x.cluster)))\n",
    "\n",
    "    # Save and load model\n",
    "    model.save(sc, \"target/org/apache/spark/PythonPowerIterationClusteringExample/PICModel\")\n",
    "    sameModel = Po[werIterationClusteringModel\\\n",
    "        .load(sc, \"target/org/apache/spark/PythonPowerIterationClusteringExample/PICModel\")"
   ]
  },
  {
   "cell_type": "code",
   "execution_count": null,
   "metadata": {},
   "outputs": [],
   "source": [
    "def LDA_clustering(rdd, k, n_iters, doc_con, topic_con):\n",
    "    # Load and parse the data\n",
    "    data = sc.textFile(\"data/mllib/sample_lda_data.txt\")\n",
    "    parsedData = data.map(lambda line: Vectors.dense([float(x) for x in line.strip().split(' ')]))\n",
    "    # Index documents with unique IDs\n",
    "    corpus = parsedData.zipWithIndex().map(lambda x: [x[1], x[0]]).cache()\n",
    "\n",
    "    # Cluster the documents into three topics using LDA\n",
    "    ldaModel = LDA.train(corpus, k=3)\n",
    "\n",
    "    # Output topics. Each is a distribution over words (matching word count vectors)\n",
    "    print(\"Learned topics (as distributions over vocab of \" + str(ldaModel.vocabSize())\n",
    "          + \" words):\")\n",
    "    topics = ldaModel.topicsMatrix()\n",
    "    for topic in range(3):\n",
    "        print(\"Topic \" + str(topic) + \":\")\n",
    "        for word in range(0, ldaModel.vocabSize()):\n",
    "            print(\" \" + str(topics[word][topic]))\n",
    "\n",
    "    # Save and load model\n",
    "    ldaModel.save(sc, \"target/org/apache/spark/PythonLatentDirichletAllocationExample/LDAModel\")\n",
    "    sameModel = LDAModel\\\n",
    "        .load(sc, \"target/org/apache/spark/PythonLatentDirichletAllocationExample/LDAModel\")"
   ]
  },
  {
   "cell_type": "code",
   "execution_count": null,
   "metadata": {},
   "outputs": [],
   "source": [
    "def bisecting_kmeans_clustering(rdd, step_size, n_iters, batch_frac, reg):\n",
    "    model = \"bimeans\"\n",
    "    # Load and parse the data\n",
    "    data = sc.textFile(\"data/mllib/kmeans_data.txt\")\n",
    "    parsedData = data.map(lambda line: array([float(x) for x in line.split(' ')]))\n",
    "\n",
    "    # Build the model (cluster the data)\n",
    "    model = BisectingKMeans.train(parsedData, 2, maxIterations=5)\n",
    "\n",
    "    # Evaluate clustering\n",
    "    cost = model.computeCost(parsedData)\n",
    "    print(\"Bisecting K-means Cost = \" + str(cost))\n",
    "\n",
    "    # Save and load model\n",
    "    path = \"target/org/apache/spark/PythonBisectingKMeansExample/BisectingKMeansModel\"\n",
    "    model.save(sc, path)\n",
    "    sameModel = BisectingKMeansModel.load(sc, path)\n"
   ]
  },
  {
   "cell_type": "code",
   "execution_count": null,
   "metadata": {},
   "outputs": [],
   "source": [
    "cluster_params = (\n",
    "    {\"k\":[5]},\n",
    "    {\"n_iters\": [100],},\n",
    "\n",
    "    \"bimeans\": {\n",
    "                   \"step_zize\":[0.5, 0.4],\n",
    "                   \"batch_frac\": [0.35],\n",
    "                   \"reg\": [0.02]},\n",
    "\n",
    "               \"lda\":{\n",
    "    \"doc_con\":[0/5],\n",
    "    \"topic_con\": [0.3]\n",
    "}\n",
    "\n",
    ")\n"
   ]
  }
 ],
 "metadata": {
  "kernelspec": {
   "display_name": "Python 2",
   "language": "python",
   "name": "python2"
  },
  "language_info": {
   "codemirror_mode": {
    "name": "ipython",
    "version": 2.0
   },
   "file_extension": ".py",
   "mimetype": "text/x-python",
   "name": "python",
   "nbconvert_exporter": "python",
   "pygments_lexer": "ipython2",
   "version": "2.7.14"
  }
 },
 "nbformat": 4,
 "nbformat_minor": 0
}