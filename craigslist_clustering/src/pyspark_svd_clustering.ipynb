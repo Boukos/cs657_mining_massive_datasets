{
 "cells": [
  {
   "cell_type": "code",
   "execution_count": 1,
   "metadata": {
    "collapsed": true
   },
   "outputs": [],
   "source": [
    "# general pyspark\n",
    "from pyspark import SparkContext\n",
    "from pyspark import SparkConf\n",
    "\n",
    "# conf = SparkConf().setMaster(\"local\").setAppName(\"svd_cluster.py\")\n",
    "# sc = SparkContext(conf = conf)\n",
    "\n",
    "#import mllib\n",
    "from pyspark.mllib.evaluation import RegressionMetrics\n",
    "from pyspark.mllib.feature import HashingTF, IDF\n",
    "from pyspark.mllib.feature import Word2Vec\n",
    "from pyspark.mllib.feature import StandardScalerModel\n",
    "from pyspark.mllib.linalg import Vectors\n",
    "from pyspark.mllib.linalg.distributed import RowMatrix, BlockMatrix\n",
    "from pyspark.mllib.linalg import Matrices\n",
    "from pyspark.mllib.clustering import KMeans, KMeansModel\n",
    "from pyspark.mllib.clustering import LDA, LDAModel\n",
    "from pyspark.mllib.clustering import BisectingKMeans, BisectingKMeansModel\n",
    "\n",
    "# python imports\n",
    "from math import sqrt\n",
    "import numpy as np\n",
    "from numpy import array\n",
    "import os, csv, sys, time\n",
    "from random import randint\n",
    "from itertools import izip, izip_longest\n",
    "import string\n",
    "import translitcodec\n",
    "\n",
    "sc = SparkContext.getOrCreate()"
   ]
  },
  {
   "cell_type": "code",
   "execution_count": 2,
   "metadata": {
    "collapsed": true
   },
   "outputs": [],
   "source": [
    "def get_tfidf(rdd, verbose=True):\n",
    "    if verbose: print(\"in get_tfidf\")\n",
    "    # While applying HashingTF only needs a single pass to the data, applying IDF needs two passes:\n",
    "    # First to compute the IDF vector and second to scale the term frequencies by IDF.\n",
    "    hashingTF = HashingTF()\n",
    "    tf = hashingTF.transform(rdd)\n",
    "    tf.cache()\n",
    "    idf = IDF().fit(tf)\n",
    "    tfidf = idf.transform(tf)\n",
    "    # spark.mllib's IDF implementation provides an option for ignoring terms\n",
    "    # which occur in less than a minimum number of documents.\n",
    "    # In such cases, the IDF for these terms is set to 0.\n",
    "    # This feature can be used by passing the minDocFreq value to the IDF constructor.\n",
    "    idfIgnore = IDF(minDocFreq=1).fit(tf)\n",
    "    tfidf_rdd = idfIgnore.transform(tf)\n",
    "    # rdd of SparseVectors [(doc_id_i: {word_id_j: tfidfscore_j, ...}), ... }]\n",
    "    # or m docs x n counts\n",
    "    return tfidf_rdd\n",
    "\n",
    "def get_svd(tfidf_rdd, n_topics=3, verbose=True):\n",
    "    if verbose: print(\"in get_svd\")\n",
    "    # distributed matrix\n",
    "    matrix_rdd = RowMatrix(tfidf_rdd)\n",
    "#     left singular vectors\n",
    "#     type = RowMatrix\n",
    "#     svd_u = svd.U\n",
    "#     array of DenseVectors, m_documents x n_topics\n",
    "#     [[topic_i, ...], ...]\n",
    "#     return svd_u.rows.collect()\n",
    "    svd = matrix_rdd.computeSVD(n_topics, computeU=True)\n",
    "    return svd\n",
    "\n",
    "def save_svd_U(svd_U_rdd, fn=\"svd_u_results.npz\"):\n",
    "    np.savez(fn,np.array(svd_U_rdd))\n",
    "\n",
    "#     sentence = \"aa bb ab\" * 10 + \"a cd \" * 10\n",
    "#     localDoc = [sentence, sentence]\n",
    "#     doc = sc.parallelize(localDoc).map(lambda line: line.split(\" \"))\n",
    "#     model = Word2Vec().setVectorSize(10).setSeed(42).fit(doc)save_cluster_metrics\n",
    "# i think it is expecting a list of document lists [[word1, word2,...], ...]\n",
    "def get_word2vec(rdd):\n",
    "    word2vec = Word2Vec()\n",
    "    model = word2vec.fit(ads_rdd)\n",
    "\n",
    "def save_cluster_predictions(cluster_results, model=\"km\", fn=\"cluster_results.pkl\"):\n",
    "    results_fn = \"{}_{}\".format(model, fn)\n",
    "    np.savez(results_fn, cluster_results)\n",
    "\n",
    "# Evaluate clustering by computing Within Set Sum of Squared Errors\n",
    "def error(point):\n",
    "    center = clusters.centers[clusters.predict(point)]\n",
    "    return sqrt(sum([x**2 for x in (point - center)]))\n",
    "\n",
    "\n",
    "# Save and load model\n",
    "def save_cluster_model(clusters, fn=\"test_model\"):\n",
    "    clusters.save(sc, \"target/org/apache/spark/PythonKMeansExample/KMeansModel\")\n",
    "\n",
    "def load_cluster_model(clusters, fn=\"test_model\"):\n",
    "    sameModel = KMeansModel.load(sc, fn)\n",
    "\n",
    "\n",
    "def save_cluster_metrics(model, score, svd_dims, k=None, max_iters=None, clust_size=None, doc_concept=None, topic_concept=None):\n",
    "    print('saving cluster metrics to csv')\n",
    "    row = [model, score, svd_dims, k, max_iters, clust_size, doc_concept, topic_concept]\n",
    "    with open(fn, 'a+') as f:\n",
    "        writer = csv.writer(f)\n",
    "        writer.writerow(row)"
   ]
  },
  {
   "cell_type": "code",
   "execution_count": 6,
   "metadata": {},
   "outputs": [
    {
     "name": "stdout",
     "output_type": "stream",
     "text": [
      "C:\\Users\\shane\\programming\\cs657_mining_massive_datasets\\craigslist_clustering\\data\\combined_ads.csv\n"
     ]
    },
    {
     "data": {
      "text/plain": [
       "True"
      ]
     },
     "execution_count": 6,
     "metadata": {},
     "output_type": "execute_result"
    }
   ],
   "source": [
    "# def get_input(fn):\n",
    "\n",
    "# fn = \"cl_tiny.csv\"\n",
    "fn = \"combined_ads.csv\"\n",
    "cur_dir = os.path.abspath(os.curdir)\n",
    "input_file_path = os.path.normpath(os.path.join(cur_dir, \"..\", \"data\", fn))\n",
    "print(input_file_path)\n",
    "\n",
    "os.path.isfile(input_file_path)"
   ]
  },
  {
   "cell_type": "code",
   "execution_count": 7,
   "metadata": {
    "collapsed": true
   },
   "outputs": [],
   "source": [
    "# [(postTitle, postingURL, postLocation, time, lat, long, address, dateRetrieved, post_date, ad), ...]\n",
    "# tiny input has 30 reviews\n",
    "raw_ads = sc.textFile(input_file_path)\n",
    "# processed_rdd.take(2)"
   ]
  },
  {
   "cell_type": "code",
   "execution_count": 8,
   "metadata": {},
   "outputs": [
    {
     "data": {
      "text/plain": [
       "u'ad,title,url,loc,scrape stamp,lat,long,addr,scrape date,source'"
      ]
     },
     "execution_count": 8,
     "metadata": {},
     "output_type": "execute_result"
    }
   ],
   "source": [
    "raw_ads.first()"
   ]
  },
  {
   "cell_type": "code",
   "execution_count": null,
   "metadata": {
    "collapsed": true
   },
   "outputs": [],
   "source": [
    "def check_ascii_text(text):\n",
    "    for c in \n",
    "    "
   ]
  },
  {
   "cell_type": "code",
   "execution_count": 127,
   "metadata": {},
   "outputs": [
    {
     "data": {
      "text/plain": [
       "'ldkjfk'"
      ]
     },
     "execution_count": 127,
     "metadata": {},
     "output_type": "execute_result"
    }
   ],
   "source": [
    "import translitcodec\n",
    "str('ldkjfk'.encode('translit/short').encode('ascii'))"
   ]
  },
  {
   "cell_type": "code",
   "execution_count": 9,
   "metadata": {},
   "outputs": [
    {
     "data": {
      "text/plain": [
       "[['Best Asian Masseuse!!Professional Sweet Asian StaffSuper Clean and Cozy Private RoomsAmazing Price!! Come and Try!!Real Experienced Asian Magic Hands!!!!!Deep TissueSwedish MassageOpen 7 days a week 9:30am-9:30pm715 East Glenn Ave Suite 101 Auburn AL 36830Call  show contact info',\n",
       "  '\\xe2\\x9d\\xa4\\xe2\\x9d\\xa4Grand Opening Oasis Massage \\xe2\\x9d\\xa4\\xe2\\x9d\\xa4 3345215388',\n",
       "  'https://auburn.craigslist.org/thp/d/grand-opening-oasis-massage/6417553605.html,Auburn,12/8/2017 11:32,32.609014,-85.467371,715 east glenn Ave suite 101,20:10.8,CL1'],\n",
       " ['\"Mon-Sat 9am-7:30pmSun-11am-5pmDeep tissue',\n",
       "  'Swedish',\n",
       "  'Relaxation mMili-Mon and Sat -$FireFight-Fri-$Call 4aptText 4infoLic Info only in person\",Sun mas,https://montgomery.craigslist.org/thp/d/sun-mas/6420838785.html,montgomery,12/11/2017 5:08,32.3129,-86.2421,east blvd at vaughn,20:11.5,CL1'],\n",
       " [' ',\n",
       "  '',\n",
       "  'https://montgomery.craigslist.org/thp/d/wbest-asian-massagecall/6420405684.html,, ,,,,20:12.4,CL1']]"
      ]
     },
     "execution_count": 9,
     "metadata": {},
     "output_type": "execute_result"
    }
   ],
   "source": [
    "header = raw_ads.first()\n",
    "# just pull ads\n",
    "raw_ads = raw_ads.filter(lambda line: line != header)\n",
    "raw_ads.first()\n",
    "# raw_ads = raw_ads.filter(lambda line: line !=header).map(lambda x: (x[0], x[1]))\n",
    "processed_rdd = raw_ads.map(lambda x: str(x.encode('utf-8'))).map(lambda x: x.split(\",\",2))\n",
    "processed_rdd.take(3)"
   ]
  },
  {
   "cell_type": "code",
   "execution_count": 10,
   "metadata": {},
   "outputs": [
    {
     "name": "stdout",
     "output_type": "stream",
     "text": [
      "[(('Best Asian Masseuse!!Professional Sweet Asian StaffSuper Clean and Cozy Private RoomsAmazing Price!! Come and Try!!Real Experienced Asian Magic Hands!!!!!Deep TissueSwedish MassageOpen 7 days a week 9:30am-9:30pm715 East Glenn Ave Suite 101 Auburn AL 36830Call  show contact info', '\\xe2\\x9d\\xa4\\xe2\\x9d\\xa4Grand Opening Oasis Massage \\xe2\\x9d\\xa4\\xe2\\x9d\\xa4 3345215388'), 'https://auburn.craigslist.org/thp/d/grand-opening-oasis-massage/6417553605.html,Auburn,12/8/2017 11:32,32.609014,-85.467371,715 east glenn Ave suite 101,20:10.8,CL1'), (('\"Mon-Sat 9am-7:30pmSun-11am-5pmDeep tissue', 'Swedish'), 'Relaxation mMili-Mon and Sat -$FireFight-Fri-$Call 4aptText 4infoLic Info only in person\",Sun mas,https://montgomery.craigslist.org/thp/d/sun-mas/6420838785.html,montgomery,12/11/2017 5:08,32.3129,-86.2421,east blvd at vaughn,20:11.5,CL1'), ((' ', ''), 'https://montgomery.craigslist.org/thp/d/wbest-asian-massagecall/6420405684.html,, ,,,,20:12.4,CL1')]\n"
     ]
    },
    {
     "data": {
      "text/plain": [
       "['https://auburn.craigslist.org/thp/d/grand-opening-oasis-massage/6417553605.html,Auburn,12/8/2017 11:32,32.609014,-85.467371,715 east glenn Ave suite 101,20:10.8,CL1',\n",
       " 'Relaxation mMili-Mon and Sat -$FireFight-Fri-$Call 4aptText 4infoLic Info only in person\",Sun mas,https://montgomery.craigslist.org/thp/d/sun-mas/6420838785.html,montgomery,12/11/2017 5:08,32.3129,-86.2421,east blvd at vaughn,20:11.5,CL1',\n",
       " 'https://montgomery.craigslist.org/thp/d/wbest-asian-massagecall/6420405684.html,, ,,,,20:12.4,CL1']"
      ]
     },
     "execution_count": 10,
     "metadata": {},
     "output_type": "execute_result"
    }
   ],
   "source": [
    "kv_rdd = processed_rdd.map(lambda x: ((x[0], x[1]), x[2]))\n",
    "print(kv_rdd.take(3))\n",
    "only_ads_rdd = kv_rdd.map(lambda x: x[1]).map(lambda text: ''.join(x for x in text if ord(x) < 128))\n",
    "only_ads_rdd.take(3)\n",
    "\n"
   ]
  },
  {
   "cell_type": "code",
   "execution_count": 21,
   "metadata": {},
   "outputs": [],
   "source": [
    "filtered_ads = only_ads_rdd.filter(lambda x: x!=\" \")"
   ]
  },
  {
   "cell_type": "code",
   "execution_count": 22,
   "metadata": {},
   "outputs": [],
   "source": [
    "hashingTF = HashingTF()\n",
    "tf = hashingTF.transform(filtered_ads)\n"
   ]
  },
  {
   "cell_type": "code",
   "execution_count": 38,
   "metadata": {},
   "outputs": [
    {
     "name": "stdout",
     "output_type": "stream",
     "text": [
      "saving cluster metrics to csv\n"
     ]
    }
   ],
   "source": [
    "svd_n = 10\n",
    "k = 4\n",
    "idf = IDF().fit(tf)\n",
    "tfidf = idf.transform(tf)\n",
    "idfIgnore = IDF(minDocFreq=2).fit(tf)\n",
    "tfidf_rdd = idfIgnore.transform(tf)\n",
    "matrix_rdd = RowMatrix(tfidf_rdd)\n",
    "svd_i = matrix_rdd.computeSVD(svd_n, computeU=True)\n",
    "rdd = svd_i.U.rows\n",
    "clust_model = KMeans.train(rdd, k)\n",
    "cost = clust_model.computeCost(rdd)\n",
    "save_cluster_metrics(\"kmeans\", cost, svd_n, k=k)\n",
    "predictions_rdd = rdd.map(lambda x: (x, clust_model.predict(x)))\n",
    "kmeans_predictions_fn=\"predictions_{}_topics{}_k{}.npy\".format(\"kmeans\", svd_n, k)\n",
    "save_cluster_predictions(np.array(predictions_rdd.collect()), model=\"km\", fn=kmeans_predictions_fn)\n"
   ]
  },
  {
   "cell_type": "code",
   "execution_count": 28,
   "metadata": {},
   "outputs": [
    {
     "name": "stdout",
     "output_type": "stream",
     "text": [
      "saving cluster metrics to csv\n"
     ]
    }
   ],
   "source": []
  },
  {
   "cell_type": "code",
   "execution_count": 35,
   "metadata": {},
   "outputs": [],
   "source": [
    "\n",
    "# [ad0, ad1, ..]\n",
    "# processed = raw_ads.filter(lambda line: line !=header).map(lambda x: (x[0], x[1]))\n",
    "# ads_rdd = raw_ads.map(lambda x: x.split(\",\", 2)).map(lambda x: ((x[0], x[1]),x[2].encode('utf-8', 'ignore')))\n",
    "# ads_rdd.take(3)\n",
    "# processed_rdd = ads_rdd.map(lambda x: x.split(\",\", 2))#.map(lambda x: ((x[0], x[1]), x[2]))\n",
    "# processed_rdd = ads_rdd.map(lambda x: x.split(\",\", 1)).map(lambda x: (int(x[0]), x[1]))\n",
    "# processed_rdd = ads_rdd.map(lambda x: [(int(i[0]), i[1]) for i in x.split(\",\", 1)])\n",
    "# processed_rdd.take(3)\n",
    "# processed_rdd.first()\n",
    "# ads_rdd.first()"
   ]
  },
  {
   "cell_type": "code",
   "execution_count": 36,
   "metadata": {},
   "outputs": [],
   "source": []
  },
  {
   "cell_type": "code",
   "execution_count": null,
   "metadata": {},
   "outputs": [],
   "source": []
  },
  {
   "cell_type": "code",
   "execution_count": null,
   "metadata": {},
   "outputs": [],
   "source": []
  },
  {
   "cell_type": "code",
   "execution_count": 62,
   "metadata": {},
   "outputs": [
    {
     "name": "stdout",
     "output_type": "stream",
     "text": [
      "k:2, topic:2\n",
      "in get_tfidf\n"
     ]
    },
    {
     "ename": "Py4JJavaError",
     "evalue": "An error occurred while calling o716.fitIDF.\n: org.apache.spark.SparkException: Job aborted due to stage failure: Task 0 in stage 128.0 failed 1 times, most recent failure: Lost task 0.0 in stage 128.0 (TID 226, localhost, executor driver): TaskResultLost (result lost from block manager)\nDriver stacktrace:\r\n\tat org.apache.spark.scheduler.DAGScheduler.org$apache$spark$scheduler$DAGScheduler$$failJobAndIndependentStages(DAGScheduler.scala:1499)\r\n\tat org.apache.spark.scheduler.DAGScheduler$$anonfun$abortStage$1.apply(DAGScheduler.scala:1487)\r\n\tat org.apache.spark.scheduler.DAGScheduler$$anonfun$abortStage$1.apply(DAGScheduler.scala:1486)\r\n\tat scala.collection.mutable.ResizableArray$class.foreach(ResizableArray.scala:59)\r\n\tat scala.collection.mutable.ArrayBuffer.foreach(ArrayBuffer.scala:48)\r\n\tat org.apache.spark.scheduler.DAGScheduler.abortStage(DAGScheduler.scala:1486)\r\n\tat org.apache.spark.scheduler.DAGScheduler$$anonfun$handleTaskSetFailed$1.apply(DAGScheduler.scala:814)\r\n\tat org.apache.spark.scheduler.DAGScheduler$$anonfun$handleTaskSetFailed$1.apply(DAGScheduler.scala:814)\r\n\tat scala.Option.foreach(Option.scala:257)\r\n\tat org.apache.spark.scheduler.DAGScheduler.handleTaskSetFailed(DAGScheduler.scala:814)\r\n\tat org.apache.spark.scheduler.DAGSchedulerEventProcessLoop.doOnReceive(DAGScheduler.scala:1714)\r\n\tat org.apache.spark.scheduler.DAGSchedulerEventProcessLoop.onReceive(DAGScheduler.scala:1669)\r\n\tat org.apache.spark.scheduler.DAGSchedulerEventProcessLoop.onReceive(DAGScheduler.scala:1658)\r\n\tat org.apache.spark.util.EventLoop$$anon$1.run(EventLoop.scala:48)\r\n\tat org.apache.spark.scheduler.DAGScheduler.runJob(DAGScheduler.scala:630)\r\n\tat org.apache.spark.SparkContext.runJob(SparkContext.scala:2022)\r\n\tat org.apache.spark.SparkContext.runJob(SparkContext.scala:2119)\r\n\tat org.apache.spark.rdd.RDD$$anonfun$reduce$1.apply(RDD.scala:1026)\r\n\tat org.apache.spark.rdd.RDDOperationScope$.withScope(RDDOperationScope.scala:151)\r\n\tat org.apache.spark.rdd.RDDOperationScope$.withScope(RDDOperationScope.scala:112)\r\n\tat org.apache.spark.rdd.RDD.withScope(RDD.scala:362)\r\n\tat org.apache.spark.rdd.RDD.reduce(RDD.scala:1008)\r\n\tat org.apache.spark.rdd.RDD$$anonfun$treeAggregate$1.apply(RDD.scala:1151)\r\n\tat org.apache.spark.rdd.RDDOperationScope$.withScope(RDDOperationScope.scala:151)\r\n\tat org.apache.spark.rdd.RDDOperationScope$.withScope(RDDOperationScope.scala:112)\r\n\tat org.apache.spark.rdd.RDD.withScope(RDD.scala:362)\r\n\tat org.apache.spark.rdd.RDD.treeAggregate(RDD.scala:1128)\r\n\tat org.apache.spark.mllib.feature.IDF.fit(IDF.scala:54)\r\n\tat org.apache.spark.mllib.feature.IDF.fit(IDF.scala:67)\r\n\tat org.apache.spark.mllib.api.python.PythonMLLibAPI.fitIDF(PythonMLLibAPI.scala:672)\r\n\tat sun.reflect.NativeMethodAccessorImpl.invoke0(Native Method)\r\n\tat sun.reflect.NativeMethodAccessorImpl.invoke(Unknown Source)\r\n\tat sun.reflect.DelegatingMethodAccessorImpl.invoke(Unknown Source)\r\n\tat java.lang.reflect.Method.invoke(Unknown Source)\r\n\tat py4j.reflection.MethodInvoker.invoke(MethodInvoker.java:244)\r\n\tat py4j.reflection.ReflectionEngine.invoke(ReflectionEngine.java:357)\r\n\tat py4j.Gateway.invoke(Gateway.java:280)\r\n\tat py4j.commands.AbstractCommand.invokeMethod(AbstractCommand.java:132)\r\n\tat py4j.commands.CallCommand.execute(CallCommand.java:79)\r\n\tat py4j.GatewayConnection.run(GatewayConnection.java:214)\r\n\tat java.lang.Thread.run(Unknown Source)\r\n",
     "output_type": "error",
     "traceback": [
      "\u001b[1;31m---------------------------------------------------------------------------\u001b[0m",
      "\u001b[1;31mPy4JJavaError\u001b[0m                             Traceback (most recent call last)",
      "\u001b[1;32m<ipython-input-62-496b4ff781d2>\u001b[0m in \u001b[0;36m<module>\u001b[1;34m()\u001b[0m\n\u001b[1;32m----> 1\u001b[1;33m \u001b[0mrun_kmeans_gs\u001b[0m\u001b[1;33m(\u001b[0m\u001b[0mfiltered_rdd\u001b[0m\u001b[1;33m)\u001b[0m\u001b[1;33m\u001b[0m\u001b[0m\n\u001b[0m",
      "\u001b[1;32m<ipython-input-18-f16d16415156>\u001b[0m in \u001b[0;36mrun_kmeans_gs\u001b[1;34m(rdd, verbose)\u001b[0m\n\u001b[0;32m      7\u001b[0m             \u001b[1;32mif\u001b[0m \u001b[0mverbose\u001b[0m\u001b[1;33m:\u001b[0m \u001b[1;32mprint\u001b[0m\u001b[1;33m(\u001b[0m\u001b[1;34m\"k:{}, topic:{}\"\u001b[0m\u001b[1;33m.\u001b[0m\u001b[0mformat\u001b[0m\u001b[1;33m(\u001b[0m\u001b[0mk\u001b[0m\u001b[1;33m,\u001b[0m \u001b[0mtopic\u001b[0m\u001b[1;33m)\u001b[0m\u001b[1;33m)\u001b[0m\u001b[1;33m\u001b[0m\u001b[0m\n\u001b[0;32m      8\u001b[0m             \u001b[1;31m# calculate tfidf scores\u001b[0m\u001b[1;33m\u001b[0m\u001b[1;33m\u001b[0m\u001b[0m\n\u001b[1;32m----> 9\u001b[1;33m             \u001b[0mtfidf_rdd\u001b[0m \u001b[1;33m=\u001b[0m \u001b[0mget_tfidf\u001b[0m\u001b[1;33m(\u001b[0m\u001b[0mrdd\u001b[0m\u001b[1;33m)\u001b[0m\u001b[1;33m\u001b[0m\u001b[0m\n\u001b[0m\u001b[0;32m     10\u001b[0m \u001b[1;33m\u001b[0m\u001b[0m\n\u001b[0;32m     11\u001b[0m             \u001b[1;31m# transform bag of words to svd\u001b[0m\u001b[1;33m\u001b[0m\u001b[1;33m\u001b[0m\u001b[0m\n",
      "\u001b[1;32m<ipython-input-16-13bd38874030>\u001b[0m in \u001b[0;36mget_tfidf\u001b[1;34m(rdd, verbose)\u001b[0m\n\u001b[0;32m      6\u001b[0m     \u001b[0mtf\u001b[0m \u001b[1;33m=\u001b[0m \u001b[0mhashingTF\u001b[0m\u001b[1;33m.\u001b[0m\u001b[0mtransform\u001b[0m\u001b[1;33m(\u001b[0m\u001b[0mrdd\u001b[0m\u001b[1;33m)\u001b[0m\u001b[1;33m\u001b[0m\u001b[0m\n\u001b[0;32m      7\u001b[0m     \u001b[0mtf\u001b[0m\u001b[1;33m.\u001b[0m\u001b[0mcache\u001b[0m\u001b[1;33m(\u001b[0m\u001b[1;33m)\u001b[0m\u001b[1;33m\u001b[0m\u001b[0m\n\u001b[1;32m----> 8\u001b[1;33m     \u001b[0midf\u001b[0m \u001b[1;33m=\u001b[0m \u001b[0mIDF\u001b[0m\u001b[1;33m(\u001b[0m\u001b[1;33m)\u001b[0m\u001b[1;33m.\u001b[0m\u001b[0mfit\u001b[0m\u001b[1;33m(\u001b[0m\u001b[0mtf\u001b[0m\u001b[1;33m)\u001b[0m\u001b[1;33m\u001b[0m\u001b[0m\n\u001b[0m\u001b[0;32m      9\u001b[0m     \u001b[0mtfidf\u001b[0m \u001b[1;33m=\u001b[0m \u001b[0midf\u001b[0m\u001b[1;33m.\u001b[0m\u001b[0mtransform\u001b[0m\u001b[1;33m(\u001b[0m\u001b[0mtf\u001b[0m\u001b[1;33m)\u001b[0m\u001b[1;33m\u001b[0m\u001b[0m\n\u001b[0;32m     10\u001b[0m     \u001b[1;31m# spark.mllib's IDF implementation provides an option for ignoring terms\u001b[0m\u001b[1;33m\u001b[0m\u001b[1;33m\u001b[0m\u001b[0m\n",
      "\u001b[1;32mC:\\opt\\spark\\spark-2.2.0-bin-hadoop2.7\\python\\pyspark\\mllib\\feature.pyc\u001b[0m in \u001b[0;36mfit\u001b[1;34m(self, dataset)\u001b[0m\n\u001b[0;32m    571\u001b[0m         \u001b[1;32mif\u001b[0m \u001b[1;32mnot\u001b[0m \u001b[0misinstance\u001b[0m\u001b[1;33m(\u001b[0m\u001b[0mdataset\u001b[0m\u001b[1;33m,\u001b[0m \u001b[0mRDD\u001b[0m\u001b[1;33m)\u001b[0m\u001b[1;33m:\u001b[0m\u001b[1;33m\u001b[0m\u001b[0m\n\u001b[0;32m    572\u001b[0m             \u001b[1;32mraise\u001b[0m \u001b[0mTypeError\u001b[0m\u001b[1;33m(\u001b[0m\u001b[1;34m\"dataset should be an RDD of term frequency vectors\"\u001b[0m\u001b[1;33m)\u001b[0m\u001b[1;33m\u001b[0m\u001b[0m\n\u001b[1;32m--> 573\u001b[1;33m         \u001b[0mjmodel\u001b[0m \u001b[1;33m=\u001b[0m \u001b[0mcallMLlibFunc\u001b[0m\u001b[1;33m(\u001b[0m\u001b[1;34m\"fitIDF\"\u001b[0m\u001b[1;33m,\u001b[0m \u001b[0mself\u001b[0m\u001b[1;33m.\u001b[0m\u001b[0mminDocFreq\u001b[0m\u001b[1;33m,\u001b[0m \u001b[0mdataset\u001b[0m\u001b[1;33m.\u001b[0m\u001b[0mmap\u001b[0m\u001b[1;33m(\u001b[0m\u001b[0m_convert_to_vector\u001b[0m\u001b[1;33m)\u001b[0m\u001b[1;33m)\u001b[0m\u001b[1;33m\u001b[0m\u001b[0m\n\u001b[0m\u001b[0;32m    574\u001b[0m         \u001b[1;32mreturn\u001b[0m \u001b[0mIDFModel\u001b[0m\u001b[1;33m(\u001b[0m\u001b[0mjmodel\u001b[0m\u001b[1;33m)\u001b[0m\u001b[1;33m\u001b[0m\u001b[0m\n\u001b[0;32m    575\u001b[0m \u001b[1;33m\u001b[0m\u001b[0m\n",
      "\u001b[1;32mC:\\opt\\spark\\spark-2.2.0-bin-hadoop2.7\\python\\pyspark\\mllib\\common.pyc\u001b[0m in \u001b[0;36mcallMLlibFunc\u001b[1;34m(name, *args)\u001b[0m\n\u001b[0;32m    128\u001b[0m     \u001b[0msc\u001b[0m \u001b[1;33m=\u001b[0m \u001b[0mSparkContext\u001b[0m\u001b[1;33m.\u001b[0m\u001b[0mgetOrCreate\u001b[0m\u001b[1;33m(\u001b[0m\u001b[1;33m)\u001b[0m\u001b[1;33m\u001b[0m\u001b[0m\n\u001b[0;32m    129\u001b[0m     \u001b[0mapi\u001b[0m \u001b[1;33m=\u001b[0m \u001b[0mgetattr\u001b[0m\u001b[1;33m(\u001b[0m\u001b[0msc\u001b[0m\u001b[1;33m.\u001b[0m\u001b[0m_jvm\u001b[0m\u001b[1;33m.\u001b[0m\u001b[0mPythonMLLibAPI\u001b[0m\u001b[1;33m(\u001b[0m\u001b[1;33m)\u001b[0m\u001b[1;33m,\u001b[0m \u001b[0mname\u001b[0m\u001b[1;33m)\u001b[0m\u001b[1;33m\u001b[0m\u001b[0m\n\u001b[1;32m--> 130\u001b[1;33m     \u001b[1;32mreturn\u001b[0m \u001b[0mcallJavaFunc\u001b[0m\u001b[1;33m(\u001b[0m\u001b[0msc\u001b[0m\u001b[1;33m,\u001b[0m \u001b[0mapi\u001b[0m\u001b[1;33m,\u001b[0m \u001b[1;33m*\u001b[0m\u001b[0margs\u001b[0m\u001b[1;33m)\u001b[0m\u001b[1;33m\u001b[0m\u001b[0m\n\u001b[0m\u001b[0;32m    131\u001b[0m \u001b[1;33m\u001b[0m\u001b[0m\n\u001b[0;32m    132\u001b[0m \u001b[1;33m\u001b[0m\u001b[0m\n",
      "\u001b[1;32mC:\\opt\\spark\\spark-2.2.0-bin-hadoop2.7\\python\\pyspark\\mllib\\common.pyc\u001b[0m in \u001b[0;36mcallJavaFunc\u001b[1;34m(sc, func, *args)\u001b[0m\n\u001b[0;32m    121\u001b[0m     \u001b[1;34m\"\"\" Call Java Function \"\"\"\u001b[0m\u001b[1;33m\u001b[0m\u001b[0m\n\u001b[0;32m    122\u001b[0m     \u001b[0margs\u001b[0m \u001b[1;33m=\u001b[0m \u001b[1;33m[\u001b[0m\u001b[0m_py2java\u001b[0m\u001b[1;33m(\u001b[0m\u001b[0msc\u001b[0m\u001b[1;33m,\u001b[0m \u001b[0ma\u001b[0m\u001b[1;33m)\u001b[0m \u001b[1;32mfor\u001b[0m \u001b[0ma\u001b[0m \u001b[1;32min\u001b[0m \u001b[0margs\u001b[0m\u001b[1;33m]\u001b[0m\u001b[1;33m\u001b[0m\u001b[0m\n\u001b[1;32m--> 123\u001b[1;33m     \u001b[1;32mreturn\u001b[0m \u001b[0m_java2py\u001b[0m\u001b[1;33m(\u001b[0m\u001b[0msc\u001b[0m\u001b[1;33m,\u001b[0m \u001b[0mfunc\u001b[0m\u001b[1;33m(\u001b[0m\u001b[1;33m*\u001b[0m\u001b[0margs\u001b[0m\u001b[1;33m)\u001b[0m\u001b[1;33m)\u001b[0m\u001b[1;33m\u001b[0m\u001b[0m\n\u001b[0m\u001b[0;32m    124\u001b[0m \u001b[1;33m\u001b[0m\u001b[0m\n\u001b[0;32m    125\u001b[0m \u001b[1;33m\u001b[0m\u001b[0m\n",
      "\u001b[1;32mC:\\opt\\spark\\spark-2.2.0-bin-hadoop2.7\\python\\lib\\py4j-0.10.4-src.zip\\py4j\\java_gateway.py\u001b[0m in \u001b[0;36m__call__\u001b[1;34m(self, *args)\u001b[0m\n\u001b[0;32m   1131\u001b[0m         \u001b[0manswer\u001b[0m \u001b[1;33m=\u001b[0m \u001b[0mself\u001b[0m\u001b[1;33m.\u001b[0m\u001b[0mgateway_client\u001b[0m\u001b[1;33m.\u001b[0m\u001b[0msend_command\u001b[0m\u001b[1;33m(\u001b[0m\u001b[0mcommand\u001b[0m\u001b[1;33m)\u001b[0m\u001b[1;33m\u001b[0m\u001b[0m\n\u001b[0;32m   1132\u001b[0m         return_value = get_return_value(\n\u001b[1;32m-> 1133\u001b[1;33m             answer, self.gateway_client, self.target_id, self.name)\n\u001b[0m\u001b[0;32m   1134\u001b[0m \u001b[1;33m\u001b[0m\u001b[0m\n\u001b[0;32m   1135\u001b[0m         \u001b[1;32mfor\u001b[0m \u001b[0mtemp_arg\u001b[0m \u001b[1;32min\u001b[0m \u001b[0mtemp_args\u001b[0m\u001b[1;33m:\u001b[0m\u001b[1;33m\u001b[0m\u001b[0m\n",
      "\u001b[1;32mC:\\opt\\spark\\spark-2.2.0-bin-hadoop2.7\\python\\pyspark\\sql\\utils.pyc\u001b[0m in \u001b[0;36mdeco\u001b[1;34m(*a, **kw)\u001b[0m\n\u001b[0;32m     61\u001b[0m     \u001b[1;32mdef\u001b[0m \u001b[0mdeco\u001b[0m\u001b[1;33m(\u001b[0m\u001b[1;33m*\u001b[0m\u001b[0ma\u001b[0m\u001b[1;33m,\u001b[0m \u001b[1;33m**\u001b[0m\u001b[0mkw\u001b[0m\u001b[1;33m)\u001b[0m\u001b[1;33m:\u001b[0m\u001b[1;33m\u001b[0m\u001b[0m\n\u001b[0;32m     62\u001b[0m         \u001b[1;32mtry\u001b[0m\u001b[1;33m:\u001b[0m\u001b[1;33m\u001b[0m\u001b[0m\n\u001b[1;32m---> 63\u001b[1;33m             \u001b[1;32mreturn\u001b[0m \u001b[0mf\u001b[0m\u001b[1;33m(\u001b[0m\u001b[1;33m*\u001b[0m\u001b[0ma\u001b[0m\u001b[1;33m,\u001b[0m \u001b[1;33m**\u001b[0m\u001b[0mkw\u001b[0m\u001b[1;33m)\u001b[0m\u001b[1;33m\u001b[0m\u001b[0m\n\u001b[0m\u001b[0;32m     64\u001b[0m         \u001b[1;32mexcept\u001b[0m \u001b[0mpy4j\u001b[0m\u001b[1;33m.\u001b[0m\u001b[0mprotocol\u001b[0m\u001b[1;33m.\u001b[0m\u001b[0mPy4JJavaError\u001b[0m \u001b[1;32mas\u001b[0m \u001b[0me\u001b[0m\u001b[1;33m:\u001b[0m\u001b[1;33m\u001b[0m\u001b[0m\n\u001b[0;32m     65\u001b[0m             \u001b[0ms\u001b[0m \u001b[1;33m=\u001b[0m \u001b[0me\u001b[0m\u001b[1;33m.\u001b[0m\u001b[0mjava_exception\u001b[0m\u001b[1;33m.\u001b[0m\u001b[0mtoString\u001b[0m\u001b[1;33m(\u001b[0m\u001b[1;33m)\u001b[0m\u001b[1;33m\u001b[0m\u001b[0m\n",
      "\u001b[1;32mC:\\opt\\spark\\spark-2.2.0-bin-hadoop2.7\\python\\lib\\py4j-0.10.4-src.zip\\py4j\\protocol.py\u001b[0m in \u001b[0;36mget_return_value\u001b[1;34m(answer, gateway_client, target_id, name)\u001b[0m\n\u001b[0;32m    317\u001b[0m                 raise Py4JJavaError(\n\u001b[0;32m    318\u001b[0m                     \u001b[1;34m\"An error occurred while calling {0}{1}{2}.\\n\"\u001b[0m\u001b[1;33m.\u001b[0m\u001b[1;33m\u001b[0m\u001b[0m\n\u001b[1;32m--> 319\u001b[1;33m                     format(target_id, \".\", name), value)\n\u001b[0m\u001b[0;32m    320\u001b[0m             \u001b[1;32melse\u001b[0m\u001b[1;33m:\u001b[0m\u001b[1;33m\u001b[0m\u001b[0m\n\u001b[0;32m    321\u001b[0m                 raise Py4JError(\n",
      "\u001b[1;31mPy4JJavaError\u001b[0m: An error occurred while calling o716.fitIDF.\n: org.apache.spark.SparkException: Job aborted due to stage failure: Task 0 in stage 128.0 failed 1 times, most recent failure: Lost task 0.0 in stage 128.0 (TID 226, localhost, executor driver): TaskResultLost (result lost from block manager)\nDriver stacktrace:\r\n\tat org.apache.spark.scheduler.DAGScheduler.org$apache$spark$scheduler$DAGScheduler$$failJobAndIndependentStages(DAGScheduler.scala:1499)\r\n\tat org.apache.spark.scheduler.DAGScheduler$$anonfun$abortStage$1.apply(DAGScheduler.scala:1487)\r\n\tat org.apache.spark.scheduler.DAGScheduler$$anonfun$abortStage$1.apply(DAGScheduler.scala:1486)\r\n\tat scala.collection.mutable.ResizableArray$class.foreach(ResizableArray.scala:59)\r\n\tat scala.collection.mutable.ArrayBuffer.foreach(ArrayBuffer.scala:48)\r\n\tat org.apache.spark.scheduler.DAGScheduler.abortStage(DAGScheduler.scala:1486)\r\n\tat org.apache.spark.scheduler.DAGScheduler$$anonfun$handleTaskSetFailed$1.apply(DAGScheduler.scala:814)\r\n\tat org.apache.spark.scheduler.DAGScheduler$$anonfun$handleTaskSetFailed$1.apply(DAGScheduler.scala:814)\r\n\tat scala.Option.foreach(Option.scala:257)\r\n\tat org.apache.spark.scheduler.DAGScheduler.handleTaskSetFailed(DAGScheduler.scala:814)\r\n\tat org.apache.spark.scheduler.DAGSchedulerEventProcessLoop.doOnReceive(DAGScheduler.scala:1714)\r\n\tat org.apache.spark.scheduler.DAGSchedulerEventProcessLoop.onReceive(DAGScheduler.scala:1669)\r\n\tat org.apache.spark.scheduler.DAGSchedulerEventProcessLoop.onReceive(DAGScheduler.scala:1658)\r\n\tat org.apache.spark.util.EventLoop$$anon$1.run(EventLoop.scala:48)\r\n\tat org.apache.spark.scheduler.DAGScheduler.runJob(DAGScheduler.scala:630)\r\n\tat org.apache.spark.SparkContext.runJob(SparkContext.scala:2022)\r\n\tat org.apache.spark.SparkContext.runJob(SparkContext.scala:2119)\r\n\tat org.apache.spark.rdd.RDD$$anonfun$reduce$1.apply(RDD.scala:1026)\r\n\tat org.apache.spark.rdd.RDDOperationScope$.withScope(RDDOperationScope.scala:151)\r\n\tat org.apache.spark.rdd.RDDOperationScope$.withScope(RDDOperationScope.scala:112)\r\n\tat org.apache.spark.rdd.RDD.withScope(RDD.scala:362)\r\n\tat org.apache.spark.rdd.RDD.reduce(RDD.scala:1008)\r\n\tat org.apache.spark.rdd.RDD$$anonfun$treeAggregate$1.apply(RDD.scala:1151)\r\n\tat org.apache.spark.rdd.RDDOperationScope$.withScope(RDDOperationScope.scala:151)\r\n\tat org.apache.spark.rdd.RDDOperationScope$.withScope(RDDOperationScope.scala:112)\r\n\tat org.apache.spark.rdd.RDD.withScope(RDD.scala:362)\r\n\tat org.apache.spark.rdd.RDD.treeAggregate(RDD.scala:1128)\r\n\tat org.apache.spark.mllib.feature.IDF.fit(IDF.scala:54)\r\n\tat org.apache.spark.mllib.feature.IDF.fit(IDF.scala:67)\r\n\tat org.apache.spark.mllib.api.python.PythonMLLibAPI.fitIDF(PythonMLLibAPI.scala:672)\r\n\tat sun.reflect.NativeMethodAccessorImpl.invoke0(Native Method)\r\n\tat sun.reflect.NativeMethodAccessorImpl.invoke(Unknown Source)\r\n\tat sun.reflect.DelegatingMethodAccessorImpl.invoke(Unknown Source)\r\n\tat java.lang.reflect.Method.invoke(Unknown Source)\r\n\tat py4j.reflection.MethodInvoker.invoke(MethodInvoker.java:244)\r\n\tat py4j.reflection.ReflectionEngine.invoke(ReflectionEngine.java:357)\r\n\tat py4j.Gateway.invoke(Gateway.java:280)\r\n\tat py4j.commands.AbstractCommand.invokeMethod(AbstractCommand.java:132)\r\n\tat py4j.commands.CallCommand.execute(CallCommand.java:79)\r\n\tat py4j.GatewayConnection.run(GatewayConnection.java:214)\r\n\tat java.lang.Thread.run(Unknown Source)\r\n"
     ]
    }
   ],
   "source": [
    "run_kmeans_gs(filtered_rdd)"
   ]
  },
  {
   "cell_type": "code",
   "execution_count": 18,
   "metadata": {
    "collapsed": true
   },
   "outputs": [],
   "source": [
    "def run_kmeans_gs(rdd, verbose=True):\n",
    "    model = \"bimeans\"\n",
    "    ks = [x for x in range(2, 5, 2)]\n",
    "    svd_topics = [x for x in range(2, 5, 2)]\n",
    "    for topic in svd_topics:\n",
    "        for k in ks:\n",
    "            if verbose: print(\"k:{}, topic:{}\".format(k, topic))\n",
    "            # calculate tfidf scores\n",
    "            tfidf_rdd = get_tfidf(rdd)\n",
    "            \n",
    "            # transform bag of words to svd\n",
    "            # the svd object has U, Sigma, V\n",
    "            # \n",
    "            svd = get_svd(tfidf_rdd, topic)\n",
    "            \n",
    "            # run kmeans with left singular vectors \n",
    "            predictions_rdd = kmeans(svd, topic, k)\n",
    "            kmeans_predictions_fn=\"predictions_{}_topics{}_k{}.npy\".format(model, topic, k)\n",
    "            save_cluster_predictions(np.array(predictions_rdd.collect()), model=\"km\", fn=kmeans_predictions_fn)\n",
    "    \n",
    "# k_means\n",
    "# Build the model (cluster the data)\n",
    "# kmeans(rdd, k, maxIterations, runs, InitializationMode, seed, initializationSteps, epsilon, initialModel)\n",
    "def kmeans(svd, svd_dims, k=2, n_iters=10, save_model=False, verbose=True):\n",
    "    model=\"kmeans\"\n",
    "    if verbose: print(\"in kmeans\")\n",
    "        \n",
    "    # left singular vectors, U\n",
    "    # array of DenseVectors, m_documents x n_topics\n",
    "    # [ doc_i, doc_i+1, ...]\n",
    "    # [[topic_j_score, topic_j+1_score ...], ...]\n",
    "    rdd = svd.U.rows\n",
    "    \n",
    "    # Build the model (cluster the data)\n",
    "    model = KMeans.train(rdd, k, maxIterations=n_iters)\n",
    "\n",
    "    # Evaluate clustering\n",
    "    cost = model.computeCost(rdd)\n",
    "    save_cluster_metrics(\"bimeans\", cost, svd_dims, k=k)\n",
    "    \n",
    "    if save_model:\n",
    "        save_cluster_model(model, fn)\n",
    "    \n",
    "\n",
    "    # returns an rdd of [(topic_values, cluster_id), ...]\n",
    "    return rdd.map(lambda x: (x, model.predict(x)))\n"
   ]
  },
  {
   "cell_type": "code",
   "execution_count": null,
   "metadata": {
    "collapsed": true
   },
   "outputs": [],
   "source": []
  },
  {
   "cell_type": "code",
   "execution_count": null,
   "metadata": {
    "collapsed": true
   },
   "outputs": [],
   "source": [
    "predictions = run_bimeans_gs(ads_rdd)"
   ]
  },
  {
   "cell_type": "code",
   "execution_count": 12,
   "metadata": {
    "collapsed": true
   },
   "outputs": [],
   "source": [
    "def run_bimeans_gs(rdd, verbose=True):\n",
    "    model = \"bimeans\"\n",
    "    predictions = []\n",
    "    ks = [x for x in range(2, 10, 2)]\n",
    "    minDivisibleClusterSize = [float(x/100.0) for x in range(1, 50, 101)], #percent\n",
    "    svd_topics = [x for x in range(2, 10, 2)]\n",
    "    for topic in svd_topics:\n",
    "        for k in ks:\n",
    "            for c_size in minDivisibleClusterSize:\n",
    "                if verbose: print(\"k:{}, topic:{}, cluster_size:{}\".format(k, topic, c_size))\n",
    "                # calculate tfidf scores\n",
    "                tfidf_rdd = get_tfidf(rdd)\n",
    "\n",
    "                # transform bag of words to svd\n",
    "                svd = get_svd(tfidf_rdd, topic)\n",
    "                if verbose: print(svd)\n",
    "\n",
    "                # run kmeans with left singular vectors \n",
    "                predictions_rdd = bimeans(svd, topic, k, c_size)\n",
    "                \n",
    "                predictions.append(predictions_rdd)\n",
    "    return predictions    \n",
    "#     bimeans_predictions_fn=\"predictions_{}_topics{}_k{}_csize{}.npy\".format(model, topic, k, c_size)\n",
    "#     save_cluster_predictions(np.array(predictions), model=\"bimeans\", fn=bimeans_predictions_fn)\n",
    "\n",
    "def bimeans(svd, svd_dims, k, cluster_size, verbose=True, save_model=False):\n",
    "    model = \"bimeans\"\n",
    "    if verbose: print(\"in {}\".format(model))\n",
    "        \n",
    "    # left singular vectors, U\n",
    "    # array of DenseVectors, m_documents x n_topics\n",
    "    # [ doc_i, doc_i+1, ...]\n",
    "    # [[topic_j_score, topic_j+1_score ...], ...]\n",
    "    rdd = svd.U.rows\n",
    "    \n",
    "    # Build the model (cluster the data)\n",
    "#     model = BisectingKMeans.train(rdd, k=k, minDivisibleClusterSize=cluster_size)\n",
    "    model = BisectingKMeans.train(rdd)\n",
    "\n",
    "    # Evaluate clustering\n",
    "    cost = model.computeCost(rdd)\n",
    "    save_cluster_metrics(\"bimeans\", cost, svd_dims, k=k, clust_size=cluster_size)\n",
    "    \n",
    "    if save_model:\n",
    "        save_cluster_model(model, fn)\n",
    "        \n",
    "    # returns an rdd of [(topic_values, cluster_id), ...]\n",
    "    return rdd.map(lambda x: (x, model.predict(x)))"
   ]
  },
  {
   "cell_type": "code",
   "execution_count": null,
   "metadata": {
    "collapsed": true
   },
   "outputs": [],
   "source": [
    "run_lds_gs(ads_rdd)\n"
   ]
  },
  {
   "cell_type": "code",
   "execution_count": null,
   "metadata": {
    "collapsed": true
   },
   "outputs": [],
   "source": [
    "def run_lda_gs(rdd, verbose=True):\n",
    "\n",
    "    model = \"lda\"\n",
    "    predictions = None\n",
    "    ks = [x for x in range(2, 3, 2)]\n",
    "    doc_concepts = [float(x/100.0) for x in range(1, 10)], # default -1.0\n",
    "    topic_concepts =[float(x/100.0) for x in range(1, 10)] # default -1.0\n",
    "    for k in ks:\n",
    "        for d_concept in doc_concepts:\n",
    "            for t_concept in topic_concepts:\n",
    "                if verbose: print(\"k:{}, d_concept:{}, t_concept:{}\".format(k, d_concept, t_concept))\n",
    "                # calculate tfidf scores\n",
    "                tfidf_rdd = get_tfidf(rdd)\n",
    "\n",
    "                # transform bag of words to svd\n",
    "                svd = get_svd(tfidf_rdd, topic)\n",
    "                if verbose: print(svd)\n",
    "\n",
    "                # run kmeans with left singular vectors \n",
    "                predictions_rdd = bimeans(svd, k, cluster_size)\n",
    "                # first run\n",
    "                if predictions is None:\n",
    "                    #\n",
    "                    predictions = predictions_rdd.collect()\n",
    "                    print(type(predictions))\n",
    "                else:\n",
    "                    predictions.append(predictions_rdd.collect())\n",
    "    bimeans_predictions_fn=\"predictions_{}_topics{}_k{}_csize{}.npz\".format(model, topic, k, c_size)\n",
    "    save_cluster_predictions(np.array(predictions), model=\"bimeans\", fn=kmeans_predictions_fn)\n",
    "\n",
    "def lda(rdd, k, save_model=False):\n",
    "    model = \"lda\"\n",
    "    if verbose: print(\"in {}\", model)\n",
    "        \n",
    "    # Index documents with unique IDs\n",
    "    corpus = rdd.zipWithIndex().map(lambda x: [x[1], x[0]]).cache()\n",
    "\n",
    "    # Cluster the documents into k topics using LDA\n",
    "    model = LDA.train(corpus, k=3)\n",
    "\n",
    "    # Output topics. Each is a distribution over words (matching word count vectors)\n",
    "    print(\"Learned topics (as distributions over vocab of \" + str(ldaModel.vocabSize())\n",
    "          + \" words):\")\n",
    "    topics = model.topicsMatrix()\n",
    "    for topic in range(3):\n",
    "        print(\"Topic \" + str(topic) + \":\")\n",
    "        for word in range(0, ldaModel.vocabSize()):\n",
    "            print(\" \" + str(topics[word][topic]))\n",
    "\n",
    "    # Evaluate clustering\n",
    "    cost = model.computeCost(rdd)\n",
    "    save_cluster_metrics(\"bimeans\", cost, k=k, clust_size=cluster_size)\n",
    "    \n",
    "    if save_model:\n",
    "        save_cluster_model(model, fn)\n",
    "        \n",
    "    # returns an rdd of [(topic_values, cluster_id), ...]\n",
    "    return rdd.map(lambda x: (x, model.predict(x)))"
   ]
  },
  {
   "cell_type": "code",
   "execution_count": null,
   "metadata": {
    "collapsed": true
   },
   "outputs": [],
   "source": []
  },
  {
   "cell_type": "code",
   "execution_count": null,
   "metadata": {
    "collapsed": true
   },
   "outputs": [],
   "source": [
    "run_gauss_gs(ads_rdd)"
   ]
  },
  {
   "cell_type": "code",
   "execution_count": 13,
   "metadata": {},
   "outputs": [
    {
     "ename": "IndentationError",
     "evalue": "unexpected indent (<ipython-input-13-5ee1cdecf66a>, line 51)",
     "output_type": "error",
     "traceback": [
      "\u001b[1;36m  File \u001b[1;32m\"<ipython-input-13-5ee1cdecf66a>\"\u001b[1;36m, line \u001b[1;32m51\u001b[0m\n\u001b[1;33m    save_cluster_model(model, fn)\u001b[0m\n\u001b[1;37m    ^\u001b[0m\n\u001b[1;31mIndentationError\u001b[0m\u001b[1;31m:\u001b[0m unexpected indent\n"
     ]
    }
   ],
   "source": [
    "def run_gauss_gs(rdd, verbose=True):\n",
    "    model = \"bimeans\"\n",
    "    predictions = None\n",
    "    ks = [x for x in range(2, 3, 2)]\n",
    "    minDivisibleClusterSize = [float(x/100.0) for x in range(1, 50, 50)], #percent\n",
    "    svd_topics = [x for x in range(2, 3, 2)]\n",
    "    for topic in svd_topics:\n",
    "        for k in ks:\n",
    "            for c_size in minDivisibleClusterSize:\n",
    "                if verbose: print(\"k:{}, topic:{}, cluster_size:{}\".format(k, topic, c_size))\n",
    "                # calculate tfidf scores\n",
    "                tfidf_rdd = get_tfidf(rdd)\n",
    "\n",
    "                # transform bag of words to svd\n",
    "                svd = get_svd(tfidf_rdd, topic)\n",
    "                if verbose: print(svd)\n",
    "\n",
    "                # run kmeans with left singular vectors \n",
    "                predictions_rdd = bimeans(svd, k, c_size)\n",
    "                # first run\n",
    "                if predictions is None:\n",
    "                    #\n",
    "                    predictions = predictions_rdd.collect()\n",
    "                    print(type(predictions))\n",
    "                else:\n",
    "                    predictions.append(predictions_rdd.collect())\n",
    "    bimeans_predictions_fn=\"predictions_{}_topics{}_k{}_csize{}.npz\".format(model, topic, k, c_size)\n",
    "    save_cluster_predictions(np.array(predictions), model=\"bimeans\", fn=kmeans_predictions_fn)\n",
    "\n",
    "def gaussian(svd, k, cluster_size, verbose=True, save_model=False):\n",
    "    model = \"bimeans\"\n",
    "    if verbose: print(\"in kmeans\")\n",
    "        \n",
    "    # left singular vectors, U\n",
    "    # array of DenseVectors, m_documents x n_topics\n",
    "    # [ doc_i, doc_i+1, ...]\n",
    "    # [[topic_j_score, topic_j+1_score ...], ...]\n",
    "    rdd = svd.U.rows\n",
    "    \n",
    "    # Build the model (cluster the data)\n",
    "    model = BisectingKMeans.train(rdd, k=k, minDivisibleClusterSize=cluster_size)\n",
    "    # Build the model (cluster the data)\n",
    "    model = GaussianMixture.train(rdd, 2)\n",
    "    \n",
    "    \n",
    "    # Evaluate clustering\n",
    "    cost = model.computeCost(rdd)\n",
    "    save_cluster_metrics(\"bimeans\", cost, k=k, clust_size=cluster_size)\n",
    "    \n",
    "    if save_model:k\n",
    "        save_cluster_model(model, fn)\n",
    "        \n",
    "    # returns an rdd of [(topic_values, cluster_id), ...]\n",
    "    return rdd.map(lambda x: (x, model.predict(x)))\n",
    "\n",
    "\n",
    "def gaussian_clustering(rdd):\n",
    "\n",
    "\n",
    "    # Save and load model\n",
    "    gmm.save(sc, \"target/org/apache/spark/PythonGaussianMixtureExample/GaussianMixtureModel\")\n",
    "    sameModel = GaussianMixtureModel\\\n",
    "        .load(sc, \"target/org/apache/spark/PythonGaussianMixtureExample/GaussianMixtureModel\")\n",
    "\n",
    "    # output parameters of model\n",
    "    for i in range(2):\n",
    "        print(\"weight = \", gmm.weights[i], \"mu = \", gmm.gaussians[i].mu,\n",
    "              \"sigma = \", gmm.gaussians[i].sigma.toArray())\n"
   ]
  },
  {
   "cell_type": "code",
   "execution_count": null,
   "metadata": {
    "collapsed": true
   },
   "outputs": [],
   "source": []
  },
  {
   "cell_type": "code",
   "execution_count": 14,
   "metadata": {
    "collapsed": true
   },
   "outputs": [],
   "source": [
    "\n"
   ]
  },
  {
   "cell_type": "code",
   "execution_count": null,
   "metadata": {
    "collapsed": true
   },
   "outputs": [],
   "source": [
    "\"\"\"\n",
    "docConcentration or alpha, Concentration parameter (commonly named “alpha”) for the \n",
    "prior placed on documents’ distributions over topics (“theta”)\n",
    "\n",
    "A high alpha-value will lead to documents being more similar in terms of what topics they contain     \n",
    "The effect is based on topic distribution assumption\n",
    "if symmetric distribution - high alpha means that each doc will contain a mix of most topics\n",
    "if symmetric distribution - low alpha means that docs will contain a few topics\n",
    "if asymmetric distribution - vice versa\n",
    "--------------------\n",
    "\n",
    "topicConcentration or beta – Concentration parameter (commonly named “beta” or “eta”)\n",
    "for the prior placed on topics’ distributions over terms. (default: -1.0)\n",
    "\n",
    "A high beta-value will lead to topics being more similar in terms of what words they contain.    \n",
    "if symmetric distribution - high beta means that each doc will contain a mix of most words\n",
    "if symmetric distribution - low alpha means that docs will contain a few words\n",
    "if asymmetric distribution - vice versa\n",
    " \n",
    "\"\"\"\n",
    "cluster_model_params = {\n",
    "   \n",
    "    \"lda\":{\n",
    "        \"k\":[x for x in range(2, 20, 2)],\n",
    "        \"max_iters\": [x for x in range(15, 30, 10)], #default 20  \n",
    "        \"doc_con\":[float(x/100.0) for x in range(1, 10)], # default -1.0\n",
    "        \"topic_con\": [float(x/100.0) for x in range(1, 10)] # default -1.0\n",
    "    }\n",
    "    \"bimeans\":{\n",
    "        \"k\":[x for x in range(2, 20, 2)],\n",
    "        \"max_iters\": [x for x in range(15, 30, 10)], #default 20\n",
    "        \"minDivisibleClusterSize\": [float(x/100.0) for x in range(1, 10)], #percent\n",
    "    }\n",
    "    \"kmeans\":{\n",
    "        \"k\":[x for x in range(2, 20, 2)],\n",
    "        \"max_iters\": [x for x in range(15, 30, 10)], #default 20\n",
    "        \"initializationMode\": [\"random\", \"k-means||\")] #default k-means        \n",
    "    }\n",
    "    \"gaus\":{\n",
    "        \"k\":[x for x in range(2, 20, 2)],\n",
    "        \"max_iters\": [x for x in range(90, 150, 10)], #default 100\n",
    "    }\n",
    "    \"pic\":{\n",
    "        \"k\":[x for x in range(2, 20, 2)],\n",
    "        \"max_iters\": [x for x in range(90, 150, 10)], #default 100\n",
    "    }\n",
    "        \n",
    "}\n",
    "cluster_models = [\"lda\", \"bimeans\", \"kmeans\", \"gaus\", \"pic\"]"
   ]
  },
  {
   "cell_type": "code",
   "execution_count": 65,
   "metadata": {},
   "outputs": [
    {
     "data": {
      "text/plain": [
       "['\"Daziran Massage TherapyCall to make appointment.1314 Westgate Parkway, Suite 4 Dothan, AlabamaWe specialize in Back Walking, Deep Tissue, Sport Massage...etc$60/hour $65/hour deep tissue, we also have 90 Mins and 2 hours session.out call only within Dothan area.Open Monday to Saturday, 10am - 9pm, Sunday 1pm - 8pmshow contact infoAll major credit cards accepted    ***Daziran Massage***334-446-3721\"',\n",
       " '\"331 SPAWelcome to best asian massage. shiatsu and swedish, walk on your back , firm or relaxing massage.Great table shower.Our place is very clean and very comfortable.Every therapists are licensed and very professional and friendly.You\\'ll be a New person,In callHalf Hr: $60.00 with table showerOne Hr: $80.00 with table showerwe do accept credit cardsopen 9 am to 10 pm , 7days a weekTel:  show contact info*from panama city or beach: one mile before to I-10 on highway 331 to your left* from Tallahassee: Left turn to highway 331 (Exit 85) , we are 1 mile from I-10 on your right side building.*I-10 from alabama(Mobil) or Pesacola Fl - right turn to highway 331 and 1mile to your right.    ASIAN PROFESSIONAL MASSAGE \"\"right off, I-10 on 331 S\"\"\"',\n",
       " \"Hi I'm Kali and i have the most wonderful relaxing body rubs in town...........pls call or text me for the rates    *******HEAVENLY BODY********\"]"
      ]
     },
     "execution_count": 65,
     "metadata": {},
     "output_type": "execute_result"
    }
   ],
   "source": [
    "tf_rdd.take(3)"
   ]
  },
  {
   "cell_type": "code",
   "execution_count": 64,
   "metadata": {},
   "outputs": [
    {
     "ename": "Py4JJavaError",
     "evalue": "An error occurred while calling o838.fitIDF.\n: org.apache.spark.SparkException: Job aborted due to stage failure: Task 0 in stage 130.0 failed 1 times, most recent failure: Lost task 0.0 in stage 130.0 (TID 230, localhost, executor driver): TaskResultLost (result lost from block manager)\nDriver stacktrace:\r\n\tat org.apache.spark.scheduler.DAGScheduler.org$apache$spark$scheduler$DAGScheduler$$failJobAndIndependentStages(DAGScheduler.scala:1499)\r\n\tat org.apache.spark.scheduler.DAGScheduler$$anonfun$abortStage$1.apply(DAGScheduler.scala:1487)\r\n\tat org.apache.spark.scheduler.DAGScheduler$$anonfun$abortStage$1.apply(DAGScheduler.scala:1486)\r\n\tat scala.collection.mutable.ResizableArray$class.foreach(ResizableArray.scala:59)\r\n\tat scala.collection.mutable.ArrayBuffer.foreach(ArrayBuffer.scala:48)\r\n\tat org.apache.spark.scheduler.DAGScheduler.abortStage(DAGScheduler.scala:1486)\r\n\tat org.apache.spark.scheduler.DAGScheduler$$anonfun$handleTaskSetFailed$1.apply(DAGScheduler.scala:814)\r\n\tat org.apache.spark.scheduler.DAGScheduler$$anonfun$handleTaskSetFailed$1.apply(DAGScheduler.scala:814)\r\n\tat scala.Option.foreach(Option.scala:257)\r\n\tat org.apache.spark.scheduler.DAGScheduler.handleTaskSetFailed(DAGScheduler.scala:814)\r\n\tat org.apache.spark.scheduler.DAGSchedulerEventProcessLoop.doOnReceive(DAGScheduler.scala:1714)\r\n\tat org.apache.spark.scheduler.DAGSchedulerEventProcessLoop.onReceive(DAGScheduler.scala:1669)\r\n\tat org.apache.spark.scheduler.DAGSchedulerEventProcessLoop.onReceive(DAGScheduler.scala:1658)\r\n\tat org.apache.spark.util.EventLoop$$anon$1.run(EventLoop.scala:48)\r\n\tat org.apache.spark.scheduler.DAGScheduler.runJob(DAGScheduler.scala:630)\r\n\tat org.apache.spark.SparkContext.runJob(SparkContext.scala:2022)\r\n\tat org.apache.spark.SparkContext.runJob(SparkContext.scala:2119)\r\n\tat org.apache.spark.rdd.RDD$$anonfun$reduce$1.apply(RDD.scala:1026)\r\n\tat org.apache.spark.rdd.RDDOperationScope$.withScope(RDDOperationScope.scala:151)\r\n\tat org.apache.spark.rdd.RDDOperationScope$.withScope(RDDOperationScope.scala:112)\r\n\tat org.apache.spark.rdd.RDD.withScope(RDD.scala:362)\r\n\tat org.apache.spark.rdd.RDD.reduce(RDD.scala:1008)\r\n\tat org.apache.spark.rdd.RDD$$anonfun$treeAggregate$1.apply(RDD.scala:1151)\r\n\tat org.apache.spark.rdd.RDDOperationScope$.withScope(RDDOperationScope.scala:151)\r\n\tat org.apache.spark.rdd.RDDOperationScope$.withScope(RDDOperationScope.scala:112)\r\n\tat org.apache.spark.rdd.RDD.withScope(RDD.scala:362)\r\n\tat org.apache.spark.rdd.RDD.treeAggregate(RDD.scala:1128)\r\n\tat org.apache.spark.mllib.feature.IDF.fit(IDF.scala:54)\r\n\tat org.apache.spark.mllib.feature.IDF.fit(IDF.scala:67)\r\n\tat org.apache.spark.mllib.api.python.PythonMLLibAPI.fitIDF(PythonMLLibAPI.scala:672)\r\n\tat sun.reflect.NativeMethodAccessorImpl.invoke0(Native Method)\r\n\tat sun.reflect.NativeMethodAccessorImpl.invoke(Unknown Source)\r\n\tat sun.reflect.DelegatingMethodAccessorImpl.invoke(Unknown Source)\r\n\tat java.lang.reflect.Method.invoke(Unknown Source)\r\n\tat py4j.reflection.MethodInvoker.invoke(MethodInvoker.java:244)\r\n\tat py4j.reflection.ReflectionEngine.invoke(ReflectionEngine.java:357)\r\n\tat py4j.Gateway.invoke(Gateway.java:280)\r\n\tat py4j.commands.AbstractCommand.invokeMethod(AbstractCommand.java:132)\r\n\tat py4j.commands.CallCommand.execute(CallCommand.java:79)\r\n\tat py4j.GatewayConnection.run(GatewayConnection.java:214)\r\n\tat java.lang.Thread.run(Unknown Source)\r\n",
     "output_type": "error",
     "traceback": [
      "\u001b[1;31m---------------------------------------------------------------------------\u001b[0m",
      "\u001b[1;31mPy4JJavaError\u001b[0m                             Traceback (most recent call last)",
      "\u001b[1;32m<ipython-input-64-c2a2142d3b5c>\u001b[0m in \u001b[0;36m<module>\u001b[1;34m()\u001b[0m\n\u001b[0;32m      3\u001b[0m \u001b[0mtf\u001b[0m \u001b[1;33m=\u001b[0m \u001b[0mhashingTF\u001b[0m\u001b[1;33m.\u001b[0m\u001b[0mtransform\u001b[0m\u001b[1;33m(\u001b[0m\u001b[0mfiltered_rdd\u001b[0m\u001b[1;33m)\u001b[0m\u001b[1;33m\u001b[0m\u001b[0m\n\u001b[0;32m      4\u001b[0m \u001b[0mtf\u001b[0m\u001b[1;33m.\u001b[0m\u001b[0mcache\u001b[0m\u001b[1;33m(\u001b[0m\u001b[1;33m)\u001b[0m\u001b[1;33m\u001b[0m\u001b[0m\n\u001b[1;32m----> 5\u001b[1;33m \u001b[0midf\u001b[0m \u001b[1;33m=\u001b[0m \u001b[0mIDF\u001b[0m\u001b[1;33m(\u001b[0m\u001b[1;33m)\u001b[0m\u001b[1;33m.\u001b[0m\u001b[0mfit\u001b[0m\u001b[1;33m(\u001b[0m\u001b[0mtf\u001b[0m\u001b[1;33m)\u001b[0m\u001b[1;33m\u001b[0m\u001b[0m\n\u001b[0m\u001b[0;32m      6\u001b[0m \u001b[0mtfidf\u001b[0m \u001b[1;33m=\u001b[0m \u001b[0midf\u001b[0m\u001b[1;33m.\u001b[0m\u001b[0mtransform\u001b[0m\u001b[1;33m(\u001b[0m\u001b[0mtf\u001b[0m\u001b[1;33m)\u001b[0m\u001b[1;33m\u001b[0m\u001b[0m\n\u001b[0;32m      7\u001b[0m \u001b[0midfIgnore\u001b[0m \u001b[1;33m=\u001b[0m \u001b[0mIDF\u001b[0m\u001b[1;33m(\u001b[0m\u001b[0mminDocFreq\u001b[0m\u001b[1;33m=\u001b[0m\u001b[1;36m2\u001b[0m\u001b[1;33m)\u001b[0m\u001b[1;33m.\u001b[0m\u001b[0mfit\u001b[0m\u001b[1;33m(\u001b[0m\u001b[0mtf\u001b[0m\u001b[1;33m)\u001b[0m\u001b[1;33m\u001b[0m\u001b[0m\n",
      "\u001b[1;32mC:\\opt\\spark\\spark-2.2.0-bin-hadoop2.7\\python\\pyspark\\mllib\\feature.pyc\u001b[0m in \u001b[0;36mfit\u001b[1;34m(self, dataset)\u001b[0m\n\u001b[0;32m    571\u001b[0m         \u001b[1;32mif\u001b[0m \u001b[1;32mnot\u001b[0m \u001b[0misinstance\u001b[0m\u001b[1;33m(\u001b[0m\u001b[0mdataset\u001b[0m\u001b[1;33m,\u001b[0m \u001b[0mRDD\u001b[0m\u001b[1;33m)\u001b[0m\u001b[1;33m:\u001b[0m\u001b[1;33m\u001b[0m\u001b[0m\n\u001b[0;32m    572\u001b[0m             \u001b[1;32mraise\u001b[0m \u001b[0mTypeError\u001b[0m\u001b[1;33m(\u001b[0m\u001b[1;34m\"dataset should be an RDD of term frequency vectors\"\u001b[0m\u001b[1;33m)\u001b[0m\u001b[1;33m\u001b[0m\u001b[0m\n\u001b[1;32m--> 573\u001b[1;33m         \u001b[0mjmodel\u001b[0m \u001b[1;33m=\u001b[0m \u001b[0mcallMLlibFunc\u001b[0m\u001b[1;33m(\u001b[0m\u001b[1;34m\"fitIDF\"\u001b[0m\u001b[1;33m,\u001b[0m \u001b[0mself\u001b[0m\u001b[1;33m.\u001b[0m\u001b[0mminDocFreq\u001b[0m\u001b[1;33m,\u001b[0m \u001b[0mdataset\u001b[0m\u001b[1;33m.\u001b[0m\u001b[0mmap\u001b[0m\u001b[1;33m(\u001b[0m\u001b[0m_convert_to_vector\u001b[0m\u001b[1;33m)\u001b[0m\u001b[1;33m)\u001b[0m\u001b[1;33m\u001b[0m\u001b[0m\n\u001b[0m\u001b[0;32m    574\u001b[0m         \u001b[1;32mreturn\u001b[0m \u001b[0mIDFModel\u001b[0m\u001b[1;33m(\u001b[0m\u001b[0mjmodel\u001b[0m\u001b[1;33m)\u001b[0m\u001b[1;33m\u001b[0m\u001b[0m\n\u001b[0;32m    575\u001b[0m \u001b[1;33m\u001b[0m\u001b[0m\n",
      "\u001b[1;32mC:\\opt\\spark\\spark-2.2.0-bin-hadoop2.7\\python\\pyspark\\mllib\\common.pyc\u001b[0m in \u001b[0;36mcallMLlibFunc\u001b[1;34m(name, *args)\u001b[0m\n\u001b[0;32m    128\u001b[0m     \u001b[0msc\u001b[0m \u001b[1;33m=\u001b[0m \u001b[0mSparkContext\u001b[0m\u001b[1;33m.\u001b[0m\u001b[0mgetOrCreate\u001b[0m\u001b[1;33m(\u001b[0m\u001b[1;33m)\u001b[0m\u001b[1;33m\u001b[0m\u001b[0m\n\u001b[0;32m    129\u001b[0m     \u001b[0mapi\u001b[0m \u001b[1;33m=\u001b[0m \u001b[0mgetattr\u001b[0m\u001b[1;33m(\u001b[0m\u001b[0msc\u001b[0m\u001b[1;33m.\u001b[0m\u001b[0m_jvm\u001b[0m\u001b[1;33m.\u001b[0m\u001b[0mPythonMLLibAPI\u001b[0m\u001b[1;33m(\u001b[0m\u001b[1;33m)\u001b[0m\u001b[1;33m,\u001b[0m \u001b[0mname\u001b[0m\u001b[1;33m)\u001b[0m\u001b[1;33m\u001b[0m\u001b[0m\n\u001b[1;32m--> 130\u001b[1;33m     \u001b[1;32mreturn\u001b[0m \u001b[0mcallJavaFunc\u001b[0m\u001b[1;33m(\u001b[0m\u001b[0msc\u001b[0m\u001b[1;33m,\u001b[0m \u001b[0mapi\u001b[0m\u001b[1;33m,\u001b[0m \u001b[1;33m*\u001b[0m\u001b[0margs\u001b[0m\u001b[1;33m)\u001b[0m\u001b[1;33m\u001b[0m\u001b[0m\n\u001b[0m\u001b[0;32m    131\u001b[0m \u001b[1;33m\u001b[0m\u001b[0m\n\u001b[0;32m    132\u001b[0m \u001b[1;33m\u001b[0m\u001b[0m\n",
      "\u001b[1;32mC:\\opt\\spark\\spark-2.2.0-bin-hadoop2.7\\python\\pyspark\\mllib\\common.pyc\u001b[0m in \u001b[0;36mcallJavaFunc\u001b[1;34m(sc, func, *args)\u001b[0m\n\u001b[0;32m    121\u001b[0m     \u001b[1;34m\"\"\" Call Java Function \"\"\"\u001b[0m\u001b[1;33m\u001b[0m\u001b[0m\n\u001b[0;32m    122\u001b[0m     \u001b[0margs\u001b[0m \u001b[1;33m=\u001b[0m \u001b[1;33m[\u001b[0m\u001b[0m_py2java\u001b[0m\u001b[1;33m(\u001b[0m\u001b[0msc\u001b[0m\u001b[1;33m,\u001b[0m \u001b[0ma\u001b[0m\u001b[1;33m)\u001b[0m \u001b[1;32mfor\u001b[0m \u001b[0ma\u001b[0m \u001b[1;32min\u001b[0m \u001b[0margs\u001b[0m\u001b[1;33m]\u001b[0m\u001b[1;33m\u001b[0m\u001b[0m\n\u001b[1;32m--> 123\u001b[1;33m     \u001b[1;32mreturn\u001b[0m \u001b[0m_java2py\u001b[0m\u001b[1;33m(\u001b[0m\u001b[0msc\u001b[0m\u001b[1;33m,\u001b[0m \u001b[0mfunc\u001b[0m\u001b[1;33m(\u001b[0m\u001b[1;33m*\u001b[0m\u001b[0margs\u001b[0m\u001b[1;33m)\u001b[0m\u001b[1;33m)\u001b[0m\u001b[1;33m\u001b[0m\u001b[0m\n\u001b[0m\u001b[0;32m    124\u001b[0m \u001b[1;33m\u001b[0m\u001b[0m\n\u001b[0;32m    125\u001b[0m \u001b[1;33m\u001b[0m\u001b[0m\n",
      "\u001b[1;32mC:\\opt\\spark\\spark-2.2.0-bin-hadoop2.7\\python\\lib\\py4j-0.10.4-src.zip\\py4j\\java_gateway.py\u001b[0m in \u001b[0;36m__call__\u001b[1;34m(self, *args)\u001b[0m\n\u001b[0;32m   1131\u001b[0m         \u001b[0manswer\u001b[0m \u001b[1;33m=\u001b[0m \u001b[0mself\u001b[0m\u001b[1;33m.\u001b[0m\u001b[0mgateway_client\u001b[0m\u001b[1;33m.\u001b[0m\u001b[0msend_command\u001b[0m\u001b[1;33m(\u001b[0m\u001b[0mcommand\u001b[0m\u001b[1;33m)\u001b[0m\u001b[1;33m\u001b[0m\u001b[0m\n\u001b[0;32m   1132\u001b[0m         return_value = get_return_value(\n\u001b[1;32m-> 1133\u001b[1;33m             answer, self.gateway_client, self.target_id, self.name)\n\u001b[0m\u001b[0;32m   1134\u001b[0m \u001b[1;33m\u001b[0m\u001b[0m\n\u001b[0;32m   1135\u001b[0m         \u001b[1;32mfor\u001b[0m \u001b[0mtemp_arg\u001b[0m \u001b[1;32min\u001b[0m \u001b[0mtemp_args\u001b[0m\u001b[1;33m:\u001b[0m\u001b[1;33m\u001b[0m\u001b[0m\n",
      "\u001b[1;32mC:\\opt\\spark\\spark-2.2.0-bin-hadoop2.7\\python\\pyspark\\sql\\utils.pyc\u001b[0m in \u001b[0;36mdeco\u001b[1;34m(*a, **kw)\u001b[0m\n\u001b[0;32m     61\u001b[0m     \u001b[1;32mdef\u001b[0m \u001b[0mdeco\u001b[0m\u001b[1;33m(\u001b[0m\u001b[1;33m*\u001b[0m\u001b[0ma\u001b[0m\u001b[1;33m,\u001b[0m \u001b[1;33m**\u001b[0m\u001b[0mkw\u001b[0m\u001b[1;33m)\u001b[0m\u001b[1;33m:\u001b[0m\u001b[1;33m\u001b[0m\u001b[0m\n\u001b[0;32m     62\u001b[0m         \u001b[1;32mtry\u001b[0m\u001b[1;33m:\u001b[0m\u001b[1;33m\u001b[0m\u001b[0m\n\u001b[1;32m---> 63\u001b[1;33m             \u001b[1;32mreturn\u001b[0m \u001b[0mf\u001b[0m\u001b[1;33m(\u001b[0m\u001b[1;33m*\u001b[0m\u001b[0ma\u001b[0m\u001b[1;33m,\u001b[0m \u001b[1;33m**\u001b[0m\u001b[0mkw\u001b[0m\u001b[1;33m)\u001b[0m\u001b[1;33m\u001b[0m\u001b[0m\n\u001b[0m\u001b[0;32m     64\u001b[0m         \u001b[1;32mexcept\u001b[0m \u001b[0mpy4j\u001b[0m\u001b[1;33m.\u001b[0m\u001b[0mprotocol\u001b[0m\u001b[1;33m.\u001b[0m\u001b[0mPy4JJavaError\u001b[0m \u001b[1;32mas\u001b[0m \u001b[0me\u001b[0m\u001b[1;33m:\u001b[0m\u001b[1;33m\u001b[0m\u001b[0m\n\u001b[0;32m     65\u001b[0m             \u001b[0ms\u001b[0m \u001b[1;33m=\u001b[0m \u001b[0me\u001b[0m\u001b[1;33m.\u001b[0m\u001b[0mjava_exception\u001b[0m\u001b[1;33m.\u001b[0m\u001b[0mtoString\u001b[0m\u001b[1;33m(\u001b[0m\u001b[1;33m)\u001b[0m\u001b[1;33m\u001b[0m\u001b[0m\n",
      "\u001b[1;32mC:\\opt\\spark\\spark-2.2.0-bin-hadoop2.7\\python\\lib\\py4j-0.10.4-src.zip\\py4j\\protocol.py\u001b[0m in \u001b[0;36mget_return_value\u001b[1;34m(answer, gateway_client, target_id, name)\u001b[0m\n\u001b[0;32m    317\u001b[0m                 raise Py4JJavaError(\n\u001b[0;32m    318\u001b[0m                     \u001b[1;34m\"An error occurred while calling {0}{1}{2}.\\n\"\u001b[0m\u001b[1;33m.\u001b[0m\u001b[1;33m\u001b[0m\u001b[0m\n\u001b[1;32m--> 319\u001b[1;33m                     format(target_id, \".\", name), value)\n\u001b[0m\u001b[0;32m    320\u001b[0m             \u001b[1;32melse\u001b[0m\u001b[1;33m:\u001b[0m\u001b[1;33m\u001b[0m\u001b[0m\n\u001b[0;32m    321\u001b[0m                 raise Py4JError(\n",
      "\u001b[1;31mPy4JJavaError\u001b[0m: An error occurred while calling o838.fitIDF.\n: org.apache.spark.SparkException: Job aborted due to stage failure: Task 0 in stage 130.0 failed 1 times, most recent failure: Lost task 0.0 in stage 130.0 (TID 230, localhost, executor driver): TaskResultLost (result lost from block manager)\nDriver stacktrace:\r\n\tat org.apache.spark.scheduler.DAGScheduler.org$apache$spark$scheduler$DAGScheduler$$failJobAndIndependentStages(DAGScheduler.scala:1499)\r\n\tat org.apache.spark.scheduler.DAGScheduler$$anonfun$abortStage$1.apply(DAGScheduler.scala:1487)\r\n\tat org.apache.spark.scheduler.DAGScheduler$$anonfun$abortStage$1.apply(DAGScheduler.scala:1486)\r\n\tat scala.collection.mutable.ResizableArray$class.foreach(ResizableArray.scala:59)\r\n\tat scala.collection.mutable.ArrayBuffer.foreach(ArrayBuffer.scala:48)\r\n\tat org.apache.spark.scheduler.DAGScheduler.abortStage(DAGScheduler.scala:1486)\r\n\tat org.apache.spark.scheduler.DAGScheduler$$anonfun$handleTaskSetFailed$1.apply(DAGScheduler.scala:814)\r\n\tat org.apache.spark.scheduler.DAGScheduler$$anonfun$handleTaskSetFailed$1.apply(DAGScheduler.scala:814)\r\n\tat scala.Option.foreach(Option.scala:257)\r\n\tat org.apache.spark.scheduler.DAGScheduler.handleTaskSetFailed(DAGScheduler.scala:814)\r\n\tat org.apache.spark.scheduler.DAGSchedulerEventProcessLoop.doOnReceive(DAGScheduler.scala:1714)\r\n\tat org.apache.spark.scheduler.DAGSchedulerEventProcessLoop.onReceive(DAGScheduler.scala:1669)\r\n\tat org.apache.spark.scheduler.DAGSchedulerEventProcessLoop.onReceive(DAGScheduler.scala:1658)\r\n\tat org.apache.spark.util.EventLoop$$anon$1.run(EventLoop.scala:48)\r\n\tat org.apache.spark.scheduler.DAGScheduler.runJob(DAGScheduler.scala:630)\r\n\tat org.apache.spark.SparkContext.runJob(SparkContext.scala:2022)\r\n\tat org.apache.spark.SparkContext.runJob(SparkContext.scala:2119)\r\n\tat org.apache.spark.rdd.RDD$$anonfun$reduce$1.apply(RDD.scala:1026)\r\n\tat org.apache.spark.rdd.RDDOperationScope$.withScope(RDDOperationScope.scala:151)\r\n\tat org.apache.spark.rdd.RDDOperationScope$.withScope(RDDOperationScope.scala:112)\r\n\tat org.apache.spark.rdd.RDD.withScope(RDD.scala:362)\r\n\tat org.apache.spark.rdd.RDD.reduce(RDD.scala:1008)\r\n\tat org.apache.spark.rdd.RDD$$anonfun$treeAggregate$1.apply(RDD.scala:1151)\r\n\tat org.apache.spark.rdd.RDDOperationScope$.withScope(RDDOperationScope.scala:151)\r\n\tat org.apache.spark.rdd.RDDOperationScope$.withScope(RDDOperationScope.scala:112)\r\n\tat org.apache.spark.rdd.RDD.withScope(RDD.scala:362)\r\n\tat org.apache.spark.rdd.RDD.treeAggregate(RDD.scala:1128)\r\n\tat org.apache.spark.mllib.feature.IDF.fit(IDF.scala:54)\r\n\tat org.apache.spark.mllib.feature.IDF.fit(IDF.scala:67)\r\n\tat org.apache.spark.mllib.api.python.PythonMLLibAPI.fitIDF(PythonMLLibAPI.scala:672)\r\n\tat sun.reflect.NativeMethodAccessorImpl.invoke0(Native Method)\r\n\tat sun.reflect.NativeMethodAccessorImpl.invoke(Unknown Source)\r\n\tat sun.reflect.DelegatingMethodAccessorImpl.invoke(Unknown Source)\r\n\tat java.lang.reflect.Method.invoke(Unknown Source)\r\n\tat py4j.reflection.MethodInvoker.invoke(MethodInvoker.java:244)\r\n\tat py4j.reflection.ReflectionEngine.invoke(ReflectionEngine.java:357)\r\n\tat py4j.Gateway.invoke(Gateway.java:280)\r\n\tat py4j.commands.AbstractCommand.invokeMethod(AbstractCommand.java:132)\r\n\tat py4j.commands.CallCommand.execute(CallCommand.java:79)\r\n\tat py4j.GatewayConnection.run(GatewayConnection.java:214)\r\n\tat java.lang.Thread.run(Unknown Source)\r\n"
     ]
    }
   ],
   "source": [
    "tf_rdd = filtered_rdd.map(lambda x: x[1])\n",
    "hashingTF = HashingTF()\n",
    "tf = hashingTF.transform(filtered_rdd)\n",
    "tf.cache()\n",
    "idf = IDF().fit(tf)\n",
    "tfidf = idf.transform(tf)\n",
    "idfIgnore = IDF(minDocFreq=2).fit(tf)\n",
    "tfidf_rdd = idfIgnore.transform(tf)\n",
    "matrix_rdd = RowMatrix(tfidf_rdd)\n",
    "svd_i = matrix_rdd.computeSVD(5, computeU=True)\n",
    "rdd = svd_i.U.rows\n",
    "clusters = KMeans.train(rdd, 5)\n",
    "\n",
    "#     left singular vectors\n",
    "#     type = RowMatrix\n",
    "#     svd_u = svd.U\n",
    "#     array of DenseVectors, m_documents x n_topics\n",
    "#     [[topic_i, ...], ...]\n",
    "#     return svd_u.rows.collect()\n",
    "# WSSSE = rdd.map(lambda point: error(point)).reduce(lambda x, y: x + y)\n",
    "# print(\"Within Set Sum of Squared Error = \" + str(WSSSE))\n",
    "# predicts = rdd.map(lambda x: (x, clusters.predict(x)))"
   ]
  },
  {
   "cell_type": "code",
   "execution_count": null,
   "metadata": {
    "collapsed": true
   },
   "outputs": [],
   "source": [
    "def run_bimeans_gs(rdd, verbose=True):\n",
    "    predictions = None\n",
    "    ks = [x for x in range(2, 20, 2)]\n",
    "    minDivisibleClusterSize: [float(x/100.0) for x in range(1, 50,10)], #percent\n",
    "    svd_topics = [x for x in range(2, 10, 2)]\n",
    "    for topic in svd_topics:\n",
    "        for k in ks:\n",
    "            # calculate tfidf scores\n",
    "            tfidf_rdd = get_tfidf(rdd)\n",
    "            \n",
    "            # transform bag of words to svd\n",
    "            svd = get_svd(tfidf_rdd, topic)\n",
    "            if verbose: print(svd)\n",
    "            \n",
    "            # run kmeans with left singular vectors \n",
    "            predictions_rdd = bimeans(svd, k)\n",
    "            if predictions is None:\n",
    "                predictions = predictions_rdd.collect()\n",
    "                print(type(predictions))\n",
    "            else:\n",
    "                predictions.append(predictions_rdd.collect())\n",
    "    kmeans_predictions_fn=\"predictions_k{}_topics{}.npz\"\n",
    "    save_cluster_predictions(np.array(predictions), model=\"km\", fn=kmeans_predictions_fn)\n",
    "    save_cluster_predictions(np.array(predictions), model=\"km\", fn=kmeans_predictions_fn)"
   ]
  },
  {
   "cell_type": "code",
   "execution_count": null,
   "metadata": {
    "collapsed": true
   },
   "outputs": [],
   "source": [
    "# def transpose_rdd()\n",
    "# tfidf_rdd.flatMap(lambda x: x).take(3)\n",
    "# flatMap by keeping the column position\n",
    "# flat_rdd = tfidf_rdd.flatMap(lambda row: row.map(lambda col: (col, row.indexOf(col))))\n",
    "# flat_rdd.take(3)\n",
    "# .map(v => (v._2, v._1)) // key by column position\n",
    "# .groupByKey.sortByKey   // regroup on column position, thus all elements from the first column will be in the first row\n",
    "# .map(_._2)              // discard the key, keep only value\n",
    "# df = rdd.toDF()\n",
    "# # Grab data from first columns, since it will be transposed to new column headers\n",
    "# new_header = [i[0] for i in dt.select(\"_1\").rdd.map(tuple).collect()]\n",
    "\n",
    "# # Remove first column from dataframe\n",
    "# dt2 = dt.select([c for c in dt.columns if c not in ['_1']])\n",
    "\n",
    "# # Convert DataFrame to RDD\n",
    "# rdd = dt2.rdd.map(tuple)\n",
    "\n",
    "# # Transpose Data\n",
    "# rddT1 = rdd.zipWithIndex().flatMap(lambda (x,i): [(i,j,e) for (j,e) in enumerate(x)])\n",
    "# rddT2 = rddT1.map(lambda (i,j,e): (j, (i,e))).groupByKey().sortByKey()\n",
    "# rddT3 = rddT2.map(lambda (i, x): sorted(list(x), cmp=lambda (i1,e1),(i2,e2) : cmp(i1, i2)))\n",
    "# rddT4 = rddT3.map(lambda x: map(lambda (i, y): y , x))\n",
    "\n",
    "# # Convert back to DataFrame (along with header)\n",
    "# df = rddT4.toDF(new_header)\n",
    "\n",
    "# return df"
   ]
  },
  {
   "cell_type": "code",
   "execution_count": null,
   "metadata": {
    "collapsed": true
   },
   "outputs": [],
   "source": [
    "\"\"\"\n",
    "docConcentration or alpha, Concentration parameter (commonly named “alpha”) for the \n",
    "prior placed on documents’ distributions over topics (“theta”)\n",
    "\n",
    "A high alpha-value will lead to documents being more similar in terms of what topics they contain     \n",
    "The effect is based on topic distribution assumption\n",
    "if symmetric distribution - high alpha means that each doc will contain a mix of most topics\n",
    "if symmetric distribution - low alpha means that docs will contain a few topics\n",
    "if asymmetric distribution - vice versa\n",
    "--------------------\n",
    "\n",
    "topicConcentration or beta – Concentration parameter (commonly named “beta” or “eta”)\n",
    "for the prior placed on topics’ distributions over terms. (default: -1.0)\n",
    "\n",
    "A high beta-value will lead to topics being more similar in terms of what words they contain.    \n",
    "if symmetric distribution - high beta means that each doc will contain a mix of most words\n",
    "if symmetric distribution - low alpha means that docs will contain a few words\n",
    "if asymmetric distribution - vice versa\n",
    " \n",
    "\"\"\"\n",
    "cluster_model_params = {\n",
    "   \n",
    "    \"lda\":{\n",
    "        \"k\":[x for x in range(2, 20, 2)],\n",
    "        \"max_iters\": [x for x in range(15, 30, 10)], #default 20  \n",
    "        \"doc_con\":[float(x/100.0) for x in range(1, 10)], # default -1.0\n",
    "        \"topic_con\": [float(x/100.0) for x in range(1, 10)] # default -1.0\n",
    "    }\n",
    "    \"bimeans\":{\n",
    "        \"k\":[x for x in range(2, 20, 2)],\n",
    "        \"max_iters\": [x for x in range(15, 30, 10)], #default 20\n",
    "        \"minDivisibleClusterSize\": [float(x/100.0) for x in range(1, 10)], #percent\n",
    "    }\n",
    "    \"kmeans\":{\n",
    "        \"k\":[x for x in range(2, 20, 2)],\n",
    "        \"max_iters\": [x for x in range(15, 30, 10)], #default 20\n",
    "        \"initializationMode\": [\"random\", \"k-means||\")] #default k-means        \n",
    "    }\n",
    "    \"gaus\":{\n",
    "        \"k\":[x for x in range(2, 20, 2)],\n",
    "        \"max_iters\": [x for x in range(90, 150, 10)], #default 100\n",
    "    }\n",
    "    \"pic\":{\n",
    "        \"k\":[x for x in range(2, 20, 2)],\n",
    "        \"max_iters\": [x for x in range(90, 150, 10)], #default 100\n",
    "    }\n",
    "        \n",
    "}\n",
    "cluster_models = [\"lda\", \"bimeans\", \"kmeans\", \"gaus\", \"pic\"]"
   ]
  }
 ],
 "metadata": {
  "kernelspec": {
   "display_name": "Python 2",
   "language": "python",
   "name": "python2"
  },
  "language_info": {
   "codemirror_mode": {
    "name": "ipython",
    "version": 2
   },
   "file_extension": ".py",
   "mimetype": "text/x-python",
   "name": "python",
   "nbconvert_exporter": "python",
   "pygments_lexer": "ipython2",
   "version": "2.7.14"
  }
 },
 "nbformat": 4,
 "nbformat_minor": 1
}
